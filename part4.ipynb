{
 "cells": [
  {
   "cell_type": "code",
   "execution_count": 1,
   "id": "64b31132-0f9c-4fa3-8883-328fd39a0ec8",
   "metadata": {},
   "outputs": [],
   "source": [
    "from pyspark.sql import SparkSession"
   ]
  },
  {
   "cell_type": "code",
   "execution_count": 3,
   "id": "2db22b42-3626-4ba8-a261-5838d1df7eb3",
   "metadata": {},
   "outputs": [],
   "source": [
    "spark = SparkSession.builder.appName('agg').getOrCreate()"
   ]
  },
  {
   "cell_type": "code",
   "execution_count": 4,
   "id": "d887d355-72b9-4f0e-8eb3-515b3210a874",
   "metadata": {},
   "outputs": [
    {
     "data": {
      "text/html": [
       "\n",
       "            <div>\n",
       "                <p><b>SparkSession - in-memory</b></p>\n",
       "                \n",
       "        <div>\n",
       "            <p><b>SparkContext</b></p>\n",
       "\n",
       "            <p><a href=\"http://LAPTOP-4CNSG55Q:4042\">Spark UI</a></p>\n",
       "\n",
       "            <dl>\n",
       "              <dt>Version</dt>\n",
       "                <dd><code>v3.5.5</code></dd>\n",
       "              <dt>Master</dt>\n",
       "                <dd><code>local[*]</code></dd>\n",
       "              <dt>AppName</dt>\n",
       "                <dd><code>agg</code></dd>\n",
       "            </dl>\n",
       "        </div>\n",
       "        \n",
       "            </div>\n",
       "        "
      ],
      "text/plain": [
       "<pyspark.sql.session.SparkSession at 0x181506ab5f0>"
      ]
     },
     "execution_count": 4,
     "metadata": {},
     "output_type": "execute_result"
    }
   ],
   "source": [
    "spark"
   ]
  },
  {
   "cell_type": "code",
   "execution_count": 7,
   "id": "5084a95d-3fdb-49fa-bab4-570c7ea4b113",
   "metadata": {},
   "outputs": [],
   "source": [
    "df_pyspark = spark.read.csv('test3.csv',header = True , inferSchema = True)"
   ]
  },
  {
   "cell_type": "code",
   "execution_count": 9,
   "id": "79098494-81bc-467b-a73b-ef8da45708d1",
   "metadata": {},
   "outputs": [
    {
     "name": "stdout",
     "output_type": "stream",
     "text": [
      "+------+---+----------+------+\n",
      "|  Name|Age|Experience|Salary|\n",
      "+------+---+----------+------+\n",
      "|Rajesh| 28|         5| 75000|\n",
      "| Priya| 25|         3| 60000|\n",
      "|  Anil| 30|         7| 90000|\n",
      "|Sunita| 27|         4| 70000|\n",
      "|Vikram| 35|        10|120000|\n",
      "|  Neha| 29|         6| 85000|\n",
      "| Arjun| 32|         8| 95000|\n",
      "| Pooja| 26|         3| 62000|\n",
      "|Ramesh| 40|        15|150000|\n",
      "+------+---+----------+------+\n",
      "\n"
     ]
    }
   ],
   "source": [
    "df_pyspark.show()\n"
   ]
  },
  {
   "cell_type": "code",
   "execution_count": 11,
   "id": "9f6eefae-6176-45ad-9b80-e23fa495a344",
   "metadata": {},
   "outputs": [
    {
     "name": "stdout",
     "output_type": "stream",
     "text": [
      "root\n",
      " |-- Name: string (nullable = true)\n",
      " |-- Age: integer (nullable = true)\n",
      " |-- Experience: integer (nullable = true)\n",
      " |-- Salary: integer (nullable = true)\n",
      "\n"
     ]
    }
   ],
   "source": [
    "df_pyspark.printSchema()"
   ]
  },
  {
   "cell_type": "code",
   "execution_count": 23,
   "id": "de07fd4c-bff9-4c92-94f2-ae5dfcc5f472",
   "metadata": {},
   "outputs": [
    {
     "name": "stdout",
     "output_type": "stream",
     "text": [
      "+------+-----------+\n",
      "|  name|sum(salary)|\n",
      "+------+-----------+\n",
      "|Ramesh|     150000|\n",
      "| Priya|      60000|\n",
      "|Vikram|     120000|\n",
      "|Sunita|      70000|\n",
      "|Rajesh|      75000|\n",
      "| Pooja|      62000|\n",
      "| Arjun|      95000|\n",
      "|  Neha|      85000|\n",
      "|  Anil|      90000|\n",
      "+------+-----------+\n",
      "\n"
     ]
    }
   ],
   "source": [
    "#group by \n",
    "\n",
    "df_pyspark.groupBy('name').sum('salary').show()"
   ]
  },
  {
   "cell_type": "code",
   "execution_count": 31,
   "id": "4c9216d0-88fc-40ff-ad8f-a7d95a4cdaac",
   "metadata": {},
   "outputs": [
    {
     "name": "stdout",
     "output_type": "stream",
     "text": [
      "+---+-----------+\n",
      "|age|avg(salary)|\n",
      "+---+-----------+\n",
      "| 28|    75000.0|\n",
      "| 27|    70000.0|\n",
      "| 26|    62000.0|\n",
      "| 40|   150000.0|\n",
      "| 35|   120000.0|\n",
      "| 25|    60000.0|\n",
      "| 29|    85000.0|\n",
      "| 32|    95000.0|\n",
      "| 30|    90000.0|\n",
      "+---+-----------+\n",
      "\n"
     ]
    }
   ],
   "source": [
    "## group by experience \n",
    "\n",
    "df_pyspark.groupby('age').mean('salary').show()\n"
   ]
  },
  {
   "cell_type": "code",
   "execution_count": 39,
   "id": "d946c689-0283-459c-af2c-a9e303ea5a2d",
   "metadata": {},
   "outputs": [
    {
     "name": "stdout",
     "output_type": "stream",
     "text": [
      "+---+-----+\n",
      "|age|count|\n",
      "+---+-----+\n",
      "| 28|    1|\n",
      "| 27|    1|\n",
      "| 26|    1|\n",
      "| 40|    1|\n",
      "| 35|    1|\n",
      "| 25|    1|\n",
      "| 29|    1|\n",
      "| 32|    1|\n",
      "| 30|    1|\n",
      "+---+-----+\n",
      "\n"
     ]
    }
   ],
   "source": [
    "df_pyspark.groupby('age').count().show()"
   ]
  },
  {
   "cell_type": "code",
   "execution_count": 41,
   "id": "aab9a691-e0d0-4749-9d5a-c65962d39e31",
   "metadata": {},
   "outputs": [
    {
     "name": "stdout",
     "output_type": "stream",
     "text": [
      "+------+-----------+\n",
      "|  name|max(salary)|\n",
      "+------+-----------+\n",
      "|Ramesh|     150000|\n",
      "| Priya|      60000|\n",
      "|Vikram|     120000|\n",
      "|Sunita|      70000|\n",
      "|Rajesh|      75000|\n",
      "| Pooja|      62000|\n",
      "| Arjun|      95000|\n",
      "|  Neha|      85000|\n",
      "|  Anil|      90000|\n",
      "+------+-----------+\n",
      "\n"
     ]
    }
   ],
   "source": [
    "df_pyspark.groupby('name').max('salary').show()"
   ]
  },
  {
   "cell_type": "code",
   "execution_count": 43,
   "id": "334d97cc-3d02-4bdb-9bea-ae83b95c9b40",
   "metadata": {},
   "outputs": [],
   "source": [
    "training = spark.read.csv('test3.csv', header = True , inferSchema = True)"
   ]
  },
  {
   "cell_type": "code",
   "execution_count": 45,
   "id": "17be1a30-d994-4cca-aa79-d396d40f7e94",
   "metadata": {},
   "outputs": [
    {
     "name": "stdout",
     "output_type": "stream",
     "text": [
      "+------+---+----------+------+\n",
      "|  Name|Age|Experience|Salary|\n",
      "+------+---+----------+------+\n",
      "|Rajesh| 28|         5| 75000|\n",
      "| Priya| 25|         3| 60000|\n",
      "|  Anil| 30|         7| 90000|\n",
      "|Sunita| 27|         4| 70000|\n",
      "|Vikram| 35|        10|120000|\n",
      "|  Neha| 29|         6| 85000|\n",
      "| Arjun| 32|         8| 95000|\n",
      "| Pooja| 26|         3| 62000|\n",
      "|Ramesh| 40|        15|150000|\n",
      "+------+---+----------+------+\n",
      "\n"
     ]
    }
   ],
   "source": [
    "training.show()"
   ]
  },
  {
   "cell_type": "code",
   "execution_count": 47,
   "id": "07344337-db65-43a5-a15a-6d343543d89b",
   "metadata": {},
   "outputs": [
    {
     "name": "stdout",
     "output_type": "stream",
     "text": [
      "root\n",
      " |-- Name: string (nullable = true)\n",
      " |-- Age: integer (nullable = true)\n",
      " |-- Experience: integer (nullable = true)\n",
      " |-- Salary: integer (nullable = true)\n",
      "\n"
     ]
    }
   ],
   "source": [
    "training.printSchema()"
   ]
  },
  {
   "cell_type": "code",
   "execution_count": 49,
   "id": "c92a6361-abf9-4866-9320-23bc65c9bfc0",
   "metadata": {},
   "outputs": [
    {
     "data": {
      "text/plain": [
       "['Name', 'Age', 'Experience', 'Salary']"
      ]
     },
     "execution_count": 49,
     "metadata": {},
     "output_type": "execute_result"
    }
   ],
   "source": [
    "training.columns"
   ]
  },
  {
   "cell_type": "code",
   "execution_count": null,
   "id": "60d9666f-a754-4360-bc42-522628967950",
   "metadata": {},
   "outputs": [],
   "source": [
    "[Age,experience] ----> new feature ----> independent feature"
   ]
  },
  {
   "cell_type": "code",
   "execution_count": 57,
   "id": "883088d5-da11-49e5-a81d-3a9d720d6811",
   "metadata": {},
   "outputs": [],
   "source": [
    "from pyspark.ml.feature import VectorAssembler\n",
    "featureassembler = VectorAssembler(inputCols = [\"Age\", \"Experience\"],outputCol = \"independent feature\")"
   ]
  },
  {
   "cell_type": "code",
   "execution_count": 59,
   "id": "40c364a5-0438-4526-bbb1-c3de69e94466",
   "metadata": {},
   "outputs": [],
   "source": [
    "output = featureassembler.transform(training)"
   ]
  },
  {
   "cell_type": "code",
   "execution_count": 61,
   "id": "4e9619bc-c64f-4649-9a8d-f0e08d9f0cc6",
   "metadata": {},
   "outputs": [
    {
     "name": "stdout",
     "output_type": "stream",
     "text": [
      "+------+---+----------+------+-------------------+\n",
      "|  Name|Age|Experience|Salary|independent feature|\n",
      "+------+---+----------+------+-------------------+\n",
      "|Rajesh| 28|         5| 75000|         [28.0,5.0]|\n",
      "| Priya| 25|         3| 60000|         [25.0,3.0]|\n",
      "|  Anil| 30|         7| 90000|         [30.0,7.0]|\n",
      "|Sunita| 27|         4| 70000|         [27.0,4.0]|\n",
      "|Vikram| 35|        10|120000|        [35.0,10.0]|\n",
      "|  Neha| 29|         6| 85000|         [29.0,6.0]|\n",
      "| Arjun| 32|         8| 95000|         [32.0,8.0]|\n",
      "| Pooja| 26|         3| 62000|         [26.0,3.0]|\n",
      "|Ramesh| 40|        15|150000|        [40.0,15.0]|\n",
      "+------+---+----------+------+-------------------+\n",
      "\n"
     ]
    }
   ],
   "source": [
    "output.show()"
   ]
  },
  {
   "cell_type": "code",
   "execution_count": 63,
   "id": "7bc0b2b7-f73b-45a4-accc-72e73f54f754",
   "metadata": {},
   "outputs": [
    {
     "data": {
      "text/plain": [
       "['Name', 'Age', 'Experience', 'Salary', 'independent feature']"
      ]
     },
     "execution_count": 63,
     "metadata": {},
     "output_type": "execute_result"
    }
   ],
   "source": [
    "output.columns"
   ]
  },
  {
   "cell_type": "code",
   "execution_count": 65,
   "id": "a1284c0b-8e32-44f7-ac45-cf4325cc8bcc",
   "metadata": {},
   "outputs": [],
   "source": [
    "final_data = output.select('independent feature', 'salary')"
   ]
  },
  {
   "cell_type": "code",
   "execution_count": 67,
   "id": "b79818ad-4fa9-4da0-8120-233bb4376c05",
   "metadata": {},
   "outputs": [
    {
     "name": "stdout",
     "output_type": "stream",
     "text": [
      "+-------------------+------+\n",
      "|independent feature|salary|\n",
      "+-------------------+------+\n",
      "|         [28.0,5.0]| 75000|\n",
      "|         [25.0,3.0]| 60000|\n",
      "|         [30.0,7.0]| 90000|\n",
      "|         [27.0,4.0]| 70000|\n",
      "|        [35.0,10.0]|120000|\n",
      "|         [29.0,6.0]| 85000|\n",
      "|         [32.0,8.0]| 95000|\n",
      "|         [26.0,3.0]| 62000|\n",
      "|        [40.0,15.0]|150000|\n",
      "+-------------------+------+\n",
      "\n"
     ]
    }
   ],
   "source": [
    "final_data.show()"
   ]
  },
  {
   "cell_type": "code",
   "execution_count": 78,
   "id": "2ef6e379-560c-4637-bec6-ae4bc0cf80aa",
   "metadata": {},
   "outputs": [],
   "source": [
    "from pyspark.ml.regression import LinearRegression\n",
    "train_data,test_data = final_data.randomSplit([0.75,0.25])\n",
    "regressor = LinearRegression(featuresCol = 'independent feature',labelCol = 'salary')\n",
    "regressor = regressor.fit(train_data)"
   ]
  },
  {
   "cell_type": "code",
   "execution_count": 80,
   "id": "5408e980-8887-46d2-8362-972a7a07d0c8",
   "metadata": {},
   "outputs": [
    {
     "data": {
      "text/plain": [
       "DenseVector([201.6129, 6717.7419])"
      ]
     },
     "execution_count": 80,
     "metadata": {},
     "output_type": "execute_result"
    }
   ],
   "source": [
    "regressor.coefficients"
   ]
  },
  {
   "cell_type": "code",
   "execution_count": 82,
   "id": "f8b77c14-c5a8-4b01-aa1f-4ccf21479723",
   "metadata": {},
   "outputs": [
    {
     "data": {
      "text/plain": [
       "36612.90322583728"
      ]
     },
     "execution_count": 82,
     "metadata": {},
     "output_type": "execute_result"
    }
   ],
   "source": [
    "regressor.intercept"
   ]
  },
  {
   "cell_type": "code",
   "execution_count": 86,
   "id": "e7e4af29-8473-4f76-a7f2-48978a77978c",
   "metadata": {},
   "outputs": [
    {
     "name": "stdout",
     "output_type": "stream",
     "text": [
      "+-------------------+------+------------------+\n",
      "|independent feature|salary|        prediction|\n",
      "+-------------------+------+------------------+\n",
      "|         [28.0,5.0]| 75000| 75846.77419354836|\n",
      "|        [35.0,10.0]|120000|110846.77419354694|\n",
      "|        [40.0,15.0]|150000|145443.54838709673|\n",
      "+-------------------+------+------------------+\n",
      "\n"
     ]
    }
   ],
   "source": [
    "pred_results = regressor.evaluate(test_data)\n",
    "pred_results.predictions.show()"
   ]
  },
  {
   "cell_type": "code",
   "execution_count": 88,
   "id": "c3edb0bd-5831-4262-8d34-98b62a056642",
   "metadata": {},
   "outputs": [
    {
     "data": {
      "text/plain": [
       "(4852.150537634899, 35086606.833168864)"
      ]
     },
     "execution_count": 88,
     "metadata": {},
     "output_type": "execute_result"
    }
   ],
   "source": [
    "pred_results.meanAbsoluteError,pred_results.meanSquaredError"
   ]
  },
  {
   "cell_type": "code",
   "execution_count": null,
   "id": "44d5b265-f10a-4e30-bb5b-fe95d1b0a6af",
   "metadata": {},
   "outputs": [],
   "source": []
  }
 ],
 "metadata": {
  "kernelspec": {
   "display_name": "Python [conda env:base] *",
   "language": "python",
   "name": "conda-base-py"
  },
  "language_info": {
   "codemirror_mode": {
    "name": "ipython",
    "version": 3
   },
   "file_extension": ".py",
   "mimetype": "text/x-python",
   "name": "python",
   "nbconvert_exporter": "python",
   "pygments_lexer": "ipython3",
   "version": "3.12.7"
  }
 },
 "nbformat": 4,
 "nbformat_minor": 5
}
