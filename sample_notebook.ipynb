{
 "cells": [
  {
   "cell_type": "code",
   "execution_count": 1,
   "id": "532eac30-71cc-4a31-bf91-4e26f5cec0c2",
   "metadata": {},
   "outputs": [
    {
     "name": "stdout",
     "output_type": "stream",
     "text": [
      "hello\n"
     ]
    }
   ],
   "source": [
    "print(\"hello\")"
   ]
  },
  {
   "cell_type": "code",
   "execution_count": 2,
   "id": "09449091-276f-49d5-9283-93bf56c4dc53",
   "metadata": {},
   "outputs": [
    {
     "name": "stdout",
     "output_type": "stream",
     "text": [
      "Collecting pyspark\n",
      "  Using cached pyspark-3.5.4.tar.gz (317.3 MB)\n",
      "  Preparing metadata (setup.py): started\n",
      "  Preparing metadata (setup.py): finished with status 'done'\n",
      "Collecting py4j==0.10.9.7\n",
      "  Using cached py4j-0.10.9.7-py2.py3-none-any.whl (200 kB)\n",
      "Installing collected packages: py4j, pyspark\n",
      "  Running setup.py install for pyspark: started\n",
      "  Running setup.py install for pyspark: finished with status 'done'\n",
      "Successfully installed py4j-0.10.9.7 pyspark-3.5.4\n",
      "Note: you may need to restart the kernel to use updated packages.\n"
     ]
    },
    {
     "name": "stderr",
     "output_type": "stream",
     "text": [
      "  DEPRECATION: pyspark is being installed using the legacy 'setup.py install' method, because it does not have a 'pyproject.toml' and the 'wheel' package is not installed. pip 23.1 will enforce this behaviour change. A possible replacement is to enable the '--use-pep517' option. Discussion can be found at https://github.com/pypa/pip/issues/8559\n",
      "\n",
      "[notice] A new release of pip is available: 23.0.1 -> 25.0.1\n",
      "[notice] To update, run: C:\\Users\\megha\\AppData\\Local\\Microsoft\\WindowsApps\\PythonSoftwareFoundation.Python.3.10_qbz5n2kfra8p0\\python.exe -m pip install --upgrade pip\n"
     ]
    }
   ],
   "source": [
    "pip install pyspark"
   ]
  },
  {
   "cell_type": "code",
   "execution_count": 3,
   "id": "ad9f503e-aaef-48d3-9e13-aefc04ea3aec",
   "metadata": {},
   "outputs": [],
   "source": [
    "import pyspark"
   ]
  },
  {
   "cell_type": "code",
   "execution_count": 4,
   "id": "a6b5f782-9471-473e-a700-ec4ae5ddf251",
   "metadata": {},
   "outputs": [
    {
     "ename": "ModuleNotFoundError",
     "evalue": "No module named 'pandas'",
     "output_type": "error",
     "traceback": [
      "\u001b[1;31m---------------------------------------------------------------------------\u001b[0m",
      "\u001b[1;31mModuleNotFoundError\u001b[0m                       Traceback (most recent call last)",
      "Cell \u001b[1;32mIn[4], line 1\u001b[0m\n\u001b[1;32m----> 1\u001b[0m \u001b[38;5;28;01mimport\u001b[39;00m\u001b[38;5;250m \u001b[39m\u001b[38;5;21;01mpandas\u001b[39;00m\u001b[38;5;250m \u001b[39m\u001b[38;5;28;01mas\u001b[39;00m\u001b[38;5;250m \u001b[39m\u001b[38;5;21;01mpd\u001b[39;00m \n\u001b[0;32m      2\u001b[0m pd\u001b[38;5;241m.\u001b[39mread_csv(\u001b[38;5;124m'\u001b[39m\u001b[38;5;124mtest1.csv\u001b[39m\u001b[38;5;124m'\u001b[39m)\n",
      "\u001b[1;31mModuleNotFoundError\u001b[0m: No module named 'pandas'"
     ]
    }
   ],
   "source": [
    "import pandas as pd \n",
    "pd.read_csv('test1.csv')"
   ]
  },
  {
   "cell_type": "code",
   "execution_count": 5,
   "id": "30967790-0a10-413b-8263-721e4dab6ed6",
   "metadata": {},
   "outputs": [
    {
     "name": "stdout",
     "output_type": "stream",
     "text": [
      "Collecting pandas\n",
      "  Downloading pandas-2.2.3-cp310-cp310-win_amd64.whl (11.6 MB)\n",
      "     ---------------------------------------- 0.0/11.6 MB ? eta -:--:--\n",
      "     - -------------------------------------- 0.4/11.6 MB 8.9 MB/s eta 0:00:02\n",
      "     --- ------------------------------------ 0.9/11.6 MB 11.4 MB/s eta 0:00:01\n",
      "     --- ------------------------------------ 1.0/11.6 MB 11.1 MB/s eta 0:00:01\n",
      "     --- ------------------------------------ 1.0/11.6 MB 11.1 MB/s eta 0:00:01\n",
      "     ---- ----------------------------------- 1.4/11.6 MB 6.2 MB/s eta 0:00:02\n",
      "     ----- ---------------------------------- 1.7/11.6 MB 6.1 MB/s eta 0:00:02\n",
      "     ------- -------------------------------- 2.3/11.6 MB 7.2 MB/s eta 0:00:02\n",
      "     --------- ------------------------------ 2.7/11.6 MB 7.6 MB/s eta 0:00:02\n",
      "     ----------- ---------------------------- 3.3/11.6 MB 7.7 MB/s eta 0:00:02\n",
      "     ------------- -------------------------- 3.8/11.6 MB 8.3 MB/s eta 0:00:01\n",
      "     -------------- ------------------------- 4.3/11.6 MB 8.5 MB/s eta 0:00:01\n",
      "     ---------------- ----------------------- 4.8/11.6 MB 8.8 MB/s eta 0:00:01\n",
      "     ------------------ --------------------- 5.4/11.6 MB 9.0 MB/s eta 0:00:01\n",
      "     -------------------- ------------------- 5.9/11.6 MB 9.2 MB/s eta 0:00:01\n",
      "     ---------------------- ----------------- 6.5/11.6 MB 9.4 MB/s eta 0:00:01\n",
      "     ----------------------- ---------------- 6.9/11.6 MB 9.4 MB/s eta 0:00:01\n",
      "     ------------------------- -------------- 7.3/11.6 MB 9.4 MB/s eta 0:00:01\n",
      "     --------------------------- ------------ 7.8/11.6 MB 9.5 MB/s eta 0:00:01\n",
      "     ---------------------------- ----------- 8.4/11.6 MB 9.6 MB/s eta 0:00:01\n",
      "     ------------------------------ --------- 8.9/11.6 MB 9.7 MB/s eta 0:00:01\n",
      "     -------------------------------- ------- 9.5/11.6 MB 9.6 MB/s eta 0:00:01\n",
      "     ---------------------------------- ----- 10.0/11.6 MB 9.7 MB/s eta 0:00:01\n",
      "     ------------------------------------ --- 10.5/11.6 MB 9.6 MB/s eta 0:00:01\n",
      "     ------------------------------------- -- 11.0/11.6 MB 9.8 MB/s eta 0:00:01\n",
      "     --------------------------------------  11.6/11.6 MB 10.9 MB/s eta 0:00:01\n",
      "     --------------------------------------  11.6/11.6 MB 10.7 MB/s eta 0:00:01\n",
      "     ---------------------------------------- 11.6/11.6 MB 9.9 MB/s eta 0:00:00\n",
      "Requirement already satisfied: python-dateutil>=2.8.2 in c:\\users\\megha\\appdata\\local\\packages\\pythonsoftwarefoundation.python.3.10_qbz5n2kfra8p0\\localcache\\local-packages\\python310\\site-packages (from pandas) (2.8.2)\n",
      "Requirement already satisfied: tzdata>=2022.7 in c:\\users\\megha\\appdata\\local\\packages\\pythonsoftwarefoundation.python.3.10_qbz5n2kfra8p0\\localcache\\local-packages\\python310\\site-packages (from pandas) (2023.3)\n",
      "Collecting numpy>=1.22.4\n",
      "  Downloading numpy-2.2.3-cp310-cp310-win_amd64.whl (12.9 MB)\n",
      "     ---------------------------------------- 0.0/12.9 MB ? eta -:--:--\n",
      "     - -------------------------------------- 0.5/12.9 MB 16.3 MB/s eta 0:00:01\n",
      "     -- ------------------------------------- 0.8/12.9 MB 10.2 MB/s eta 0:00:02\n",
      "     --- ------------------------------------ 1.1/12.9 MB 8.7 MB/s eta 0:00:02\n",
      "     ---- ----------------------------------- 1.6/12.9 MB 9.0 MB/s eta 0:00:02\n",
      "     ------ --------------------------------- 1.9/12.9 MB 8.8 MB/s eta 0:00:02\n",
      "     ------- -------------------------------- 2.4/12.9 MB 9.1 MB/s eta 0:00:02\n",
      "     --------- ------------------------------ 3.0/12.9 MB 9.6 MB/s eta 0:00:02\n",
      "     ---------- ----------------------------- 3.5/12.9 MB 9.8 MB/s eta 0:00:01\n",
      "     ----------- ---------------------------- 3.8/12.9 MB 9.3 MB/s eta 0:00:01\n",
      "     ------------- -------------------------- 4.4/12.9 MB 9.6 MB/s eta 0:00:01\n",
      "     --------------- ------------------------ 4.9/12.9 MB 9.5 MB/s eta 0:00:01\n",
      "     ---------------- ----------------------- 5.4/12.9 MB 9.8 MB/s eta 0:00:01\n",
      "     ------------------ --------------------- 6.0/12.9 MB 10.1 MB/s eta 0:00:01\n",
      "     -------------------- ------------------- 6.5/12.9 MB 10.1 MB/s eta 0:00:01\n",
      "     --------------------- ------------------ 7.0/12.9 MB 10.2 MB/s eta 0:00:01\n",
      "     ----------------------- ---------------- 7.5/12.9 MB 10.3 MB/s eta 0:00:01\n",
      "     ------------------------ --------------- 8.0/12.9 MB 10.3 MB/s eta 0:00:01\n",
      "     -------------------------- ------------- 8.6/12.9 MB 10.4 MB/s eta 0:00:01\n",
      "     ---------------------------- ----------- 9.2/12.9 MB 10.5 MB/s eta 0:00:01\n",
      "     ------------------------------ --------- 9.8/12.9 MB 10.6 MB/s eta 0:00:01\n",
      "     ------------------------------- ------- 10.4/12.9 MB 10.4 MB/s eta 0:00:01\n",
      "     -------------------------------- ------ 10.9/12.9 MB 10.6 MB/s eta 0:00:01\n",
      "     ---------------------------------- ---- 11.4/12.9 MB 10.9 MB/s eta 0:00:01\n",
      "     ------------------------------------ -- 12.0/12.9 MB 11.3 MB/s eta 0:00:01\n",
      "     ------------------------------------- - 12.5/12.9 MB 11.1 MB/s eta 0:00:01\n",
      "     --------------------------------------  12.9/12.9 MB 11.1 MB/s eta 0:00:01\n",
      "     --------------------------------------  12.9/12.9 MB 11.1 MB/s eta 0:00:01\n",
      "     --------------------------------------- 12.9/12.9 MB 10.2 MB/s eta 0:00:00\n",
      "Requirement already satisfied: pytz>=2020.1 in c:\\users\\megha\\appdata\\local\\packages\\pythonsoftwarefoundation.python.3.10_qbz5n2kfra8p0\\localcache\\local-packages\\python310\\site-packages (from pandas) (2023.3)\n",
      "Requirement already satisfied: six>=1.5 in c:\\users\\megha\\appdata\\local\\packages\\pythonsoftwarefoundation.python.3.10_qbz5n2kfra8p0\\localcache\\local-packages\\python310\\site-packages (from python-dateutil>=2.8.2->pandas) (1.16.0)\n",
      "Installing collected packages: numpy, pandas\n",
      "Successfully installed numpy-2.2.3 pandas-2.2.3\n",
      "Note: you may need to restart the kernel to use updated packages.\n"
     ]
    },
    {
     "name": "stderr",
     "output_type": "stream",
     "text": [
      "\n",
      "[notice] A new release of pip is available: 23.0.1 -> 25.0.1\n",
      "[notice] To update, run: C:\\Users\\megha\\AppData\\Local\\Microsoft\\WindowsApps\\PythonSoftwareFoundation.Python.3.10_qbz5n2kfra8p0\\python.exe -m pip install --upgrade pip\n"
     ]
    }
   ],
   "source": [
    "pip install pandas"
   ]
  },
  {
   "cell_type": "code",
   "execution_count": 1,
   "id": "84f6c439-b039-45c8-9d76-a9dbd893c7dd",
   "metadata": {},
   "outputs": [],
   "source": [
    "from pyspark.sql import SparkSession"
   ]
  },
  {
   "cell_type": "code",
   "execution_count": 4,
   "id": "e49e5e76-2a59-4839-8991-f31aa930177a",
   "metadata": {},
   "outputs": [],
   "source": [
    "spark=SparkSession.builder.appName('practise').getOrCreate()"
   ]
  },
  {
   "cell_type": "code",
   "execution_count": 5,
   "id": "14a2c859-77cc-415d-9baf-cb72513e557c",
   "metadata": {},
   "outputs": [
    {
     "data": {
      "text/html": [
       "\n",
       "            <div>\n",
       "                <p><b>SparkSession - in-memory</b></p>\n",
       "                \n",
       "        <div>\n",
       "            <p><b>SparkContext</b></p>\n",
       "\n",
       "            <p><a href=\"http://LAPTOP-4CNSG55Q:4040\">Spark UI</a></p>\n",
       "\n",
       "            <dl>\n",
       "              <dt>Version</dt>\n",
       "                <dd><code>v3.5.4</code></dd>\n",
       "              <dt>Master</dt>\n",
       "                <dd><code>local[*]</code></dd>\n",
       "              <dt>AppName</dt>\n",
       "                <dd><code>practise</code></dd>\n",
       "            </dl>\n",
       "        </div>\n",
       "        \n",
       "            </div>\n",
       "        "
      ],
      "text/plain": [
       "<pyspark.sql.session.SparkSession at 0x2e629c8ab90>"
      ]
     },
     "execution_count": 5,
     "metadata": {},
     "output_type": "execute_result"
    }
   ],
   "source": [
    "spark"
   ]
  },
  {
   "cell_type": "code",
   "execution_count": 9,
   "id": "610d8eab-6e09-4fa3-ad76-015a93466097",
   "metadata": {},
   "outputs": [],
   "source": [
    "df_pyspark=spark.read.csv('test1.csv')"
   ]
  },
  {
   "cell_type": "code",
   "execution_count": 10,
   "id": "fabf9aab-637e-4f8a-804b-67c659f77559",
   "metadata": {},
   "outputs": [
    {
     "data": {
      "text/plain": [
       "DataFrame[_c0: string, _c1: string, _c2: string, _c3: string, _c4: string]"
      ]
     },
     "execution_count": 10,
     "metadata": {},
     "output_type": "execute_result"
    }
   ],
   "source": [
    "df_pyspark"
   ]
  },
  {
   "cell_type": "code",
   "execution_count": 11,
   "id": "7a7b105f-fb61-49eb-acb0-447d362ad44a",
   "metadata": {},
   "outputs": [
    {
     "name": "stdout",
     "output_type": "stream",
     "text": [
      "+-----------+-------------+---+--------------------+-----------+\n",
      "|        _c0|          _c1|_c2|                 _c3|        _c4|\n",
      "+-----------+-------------+---+--------------------+-----------+\n",
      "|Customer ID|         Name|Age|               Email|   Location|\n",
      "|          1|     John Doe| 34| johndoe@example.com|   New York|\n",
      "|          2|   Jane Smith| 28|janesmith@example...|Los Angeles|\n",
      "|          3| Mike Johnson| 45|   mikej@example.com|    Chicago|\n",
      "|          4|    Sarah Lee| 32|sarahlee@example.com|      Miami|\n",
      "|          5|  David Brown| 40|davidbrown@exampl...|    Houston|\n",
      "|          6|  Emily Davis| 26|emilydavis@exampl...|     Boston|\n",
      "|          7| Chris Wilson| 38|chriswilson@examp...|  San Diego|\n",
      "|          8|Jessica Clark| 29|jessicac@example.com|     Dallas|\n",
      "|          9| Robert White| 50| robertw@example.com|    Atlanta|\n",
      "|         10|   Lisa Green| 33|lisagreen@example...|    Seattle|\n",
      "+-----------+-------------+---+--------------------+-----------+\n",
      "\n"
     ]
    }
   ],
   "source": [
    "df_pyspark.show()"
   ]
  },
  {
   "cell_type": "code",
   "execution_count": 18,
   "id": "082f7e90-df9f-46a9-add6-d6abe38f0286",
   "metadata": {},
   "outputs": [],
   "source": [
    "df_pyspark=spark.read.option('header','true').csv('test1.csv')"
   ]
  },
  {
   "cell_type": "code",
   "execution_count": 19,
   "id": "ca562919-b0ab-4dd2-b201-ce84b8666863",
   "metadata": {},
   "outputs": [
    {
     "data": {
      "text/plain": [
       "pyspark.sql.dataframe.DataFrame"
      ]
     },
     "execution_count": 19,
     "metadata": {},
     "output_type": "execute_result"
    }
   ],
   "source": [
    "type(df_pyspark)"
   ]
  },
  {
   "cell_type": "code",
   "execution_count": 20,
   "id": "fd3a54cb-4868-437b-9632-ef04b41bb629",
   "metadata": {},
   "outputs": [
    {
     "data": {
      "text/plain": [
       "[Row(Customer ID='1', Name='John Doe', Age='34', Email='johndoe@example.com', Location='New York'),\n",
       " Row(Customer ID='2', Name='Jane Smith', Age='28', Email='janesmith@example.com', Location='Los Angeles'),\n",
       " Row(Customer ID='3', Name='Mike Johnson', Age='45', Email='mikej@example.com', Location='Chicago')]"
      ]
     },
     "execution_count": 20,
     "metadata": {},
     "output_type": "execute_result"
    }
   ],
   "source": [
    "df_pyspark.head(3)"
   ]
  },
  {
   "cell_type": "code",
   "execution_count": 22,
   "id": "82b1ce88-e09e-442a-8e44-a1c6208985be",
   "metadata": {},
   "outputs": [
    {
     "name": "stdout",
     "output_type": "stream",
     "text": [
      "root\n",
      " |-- Customer ID: string (nullable = true)\n",
      " |-- Name: string (nullable = true)\n",
      " |-- Age: string (nullable = true)\n",
      " |-- Email: string (nullable = true)\n",
      " |-- Location: string (nullable = true)\n",
      "\n"
     ]
    }
   ],
   "source": [
    "  df_pyspark.printSchema()"
   ]
  },
  {
   "cell_type": "code",
   "execution_count": null,
   "id": "e8e66099-e69a-47da-b069-20cab641ef69",
   "metadata": {},
   "outputs": [],
   "source": []
  }
 ],
 "metadata": {
  "kernelspec": {
   "display_name": "Python [conda env:base] *",
   "language": "python",
   "name": "conda-base-py"
  },
  "language_info": {
   "codemirror_mode": {
    "name": "ipython",
    "version": 3
   },
   "file_extension": ".py",
   "mimetype": "text/x-python",
   "name": "python",
   "nbconvert_exporter": "python",
   "pygments_lexer": "ipython3",
   "version": "3.12.7"
  }
 },
 "nbformat": 4,
 "nbformat_minor": 5
}
