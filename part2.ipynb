{
 "cells": [
  {
   "cell_type": "code",
   "execution_count": 1,
   "id": "da3cefc4-41e9-425f-8198-2c0c0ee10871",
   "metadata": {},
   "outputs": [],
   "source": [
    "from pyspark.sql import SparkSession"
   ]
  },
  {
   "cell_type": "code",
   "execution_count": 3,
   "id": "647b758c-cfc3-4438-9812-d4a82dc6aee3",
   "metadata": {},
   "outputs": [],
   "source": [
    "spark = SparkSession.builder.appName('practice2').getOrCreate()"
   ]
  },
  {
   "cell_type": "code",
   "execution_count": 4,
   "id": "5c61f5f5-ed8c-4b10-8709-b3c7749bdce6",
   "metadata": {},
   "outputs": [
    {
     "data": {
      "text/html": [
       "\n",
       "            <div>\n",
       "                <p><b>SparkSession - in-memory</b></p>\n",
       "                \n",
       "        <div>\n",
       "            <p><b>SparkContext</b></p>\n",
       "\n",
       "            <p><a href=\"http://LAPTOP-4CNSG55Q:4041\">Spark UI</a></p>\n",
       "\n",
       "            <dl>\n",
       "              <dt>Version</dt>\n",
       "                <dd><code>v3.5.5</code></dd>\n",
       "              <dt>Master</dt>\n",
       "                <dd><code>local[*]</code></dd>\n",
       "              <dt>AppName</dt>\n",
       "                <dd><code>practice2</code></dd>\n",
       "            </dl>\n",
       "        </div>\n",
       "        \n",
       "            </div>\n",
       "        "
      ],
      "text/plain": [
       "<pyspark.sql.session.SparkSession at 0x136a21f3da0>"
      ]
     },
     "execution_count": 4,
     "metadata": {},
     "output_type": "execute_result"
    }
   ],
   "source": [
    "spark"
   ]
  },
  {
   "cell_type": "code",
   "execution_count": 9,
   "id": "4072dd42-8219-43ba-836e-8aa70f70e73a",
   "metadata": {},
   "outputs": [],
   "source": [
    "df_pyspark = spark.read.csv('test2.csv' , header = True , inferSchema = True)"
   ]
  },
  {
   "cell_type": "code",
   "execution_count": 11,
   "id": "be3bbc7c-3630-4944-8486-d9aacd198e29",
   "metadata": {},
   "outputs": [
    {
     "name": "stdout",
     "output_type": "stream",
     "text": [
      "+-----------+-------------+----+--------------------+---------+\n",
      "|Customer ID|         Name| Age|               Email| Location|\n",
      "+-----------+-------------+----+--------------------+---------+\n",
      "|          1|     John Doe|  34| johndoe@example.com| New York|\n",
      "|          2|   Jane Smith|  28|janesmith@example...|     NULL|\n",
      "|          3| Mike Johnson|  45|   mikej@example.com|  Chicago|\n",
      "|          4|    Sarah Lee|  32|sarahlee@example.com|     NULL|\n",
      "|          5|  David Brown|  40|davidbrown@exampl...|  Houston|\n",
      "|          6|  Emily Davis|  26|emilydavis@exampl...|   Boston|\n",
      "|          7| Chris Wilson|  38|chriswilson@examp...|San Diego|\n",
      "|          8|Jessica Clark|NULL|jessicac@example.com|   Dallas|\n",
      "|          9| Robert White|  50|                NULL|  Atlanta|\n",
      "|         10|   Lisa Green|  33|lisagreen@example...|  Seattle|\n",
      "+-----------+-------------+----+--------------------+---------+\n",
      "\n"
     ]
    }
   ],
   "source": [
    "df_pyspark.show()"
   ]
  },
  {
   "cell_type": "code",
   "execution_count": 21,
   "id": "c0892745-ef88-4c5f-9b31-35c06f7b8335",
   "metadata": {},
   "outputs": [
    {
     "name": "stdout",
     "output_type": "stream",
     "text": [
      "+-----------+----+--------------------+---------+\n",
      "|Customer ID| Age|               Email| Location|\n",
      "+-----------+----+--------------------+---------+\n",
      "|          1|  34| johndoe@example.com| New York|\n",
      "|          2|  28|janesmith@example...|     NULL|\n",
      "|          3|  45|   mikej@example.com|  Chicago|\n",
      "|          4|  32|sarahlee@example.com|     NULL|\n",
      "|          5|  40|davidbrown@exampl...|  Houston|\n",
      "|          6|  26|emilydavis@exampl...|   Boston|\n",
      "|          7|  38|chriswilson@examp...|San Diego|\n",
      "|          8|NULL|jessicac@example.com|   Dallas|\n",
      "|          9|  50|                NULL|  Atlanta|\n",
      "|         10|  33|lisagreen@example...|  Seattle|\n",
      "+-----------+----+--------------------+---------+\n",
      "\n"
     ]
    }
   ],
   "source": [
    "## drop the column\n",
    "df_pyspark.drop('Name').show()"
   ]
  },
  {
   "cell_type": "code",
   "execution_count": 17,
   "id": "39afd188-04f9-4cf4-ac2b-ffa479d355bc",
   "metadata": {},
   "outputs": [
    {
     "name": "stdout",
     "output_type": "stream",
     "text": [
      "+-----------+-------------+----+--------------------+---------+\n",
      "|Customer ID|         Name| Age|               Email| Location|\n",
      "+-----------+-------------+----+--------------------+---------+\n",
      "|          1|     John Doe|  34| johndoe@example.com| New York|\n",
      "|          2|   Jane Smith|  28|janesmith@example...|     NULL|\n",
      "|          3| Mike Johnson|  45|   mikej@example.com|  Chicago|\n",
      "|          4|    Sarah Lee|  32|sarahlee@example.com|     NULL|\n",
      "|          5|  David Brown|  40|davidbrown@exampl...|  Houston|\n",
      "|          6|  Emily Davis|  26|emilydavis@exampl...|   Boston|\n",
      "|          7| Chris Wilson|  38|chriswilson@examp...|San Diego|\n",
      "|          8|Jessica Clark|NULL|jessicac@example.com|   Dallas|\n",
      "|          9| Robert White|  50|                NULL|  Atlanta|\n",
      "|         10|   Lisa Green|  33|lisagreen@example...|  Seattle|\n",
      "+-----------+-------------+----+--------------------+---------+\n",
      "\n"
     ]
    }
   ],
   "source": [
    "df_pyspark.show()"
   ]
  },
  {
   "cell_type": "code",
   "execution_count": 23,
   "id": "dee91c40-c45a-4196-a538-45da4ca44e56",
   "metadata": {},
   "outputs": [
    {
     "name": "stdout",
     "output_type": "stream",
     "text": [
      "+-----------+------------+---+--------------------+---------+\n",
      "|Customer ID|        Name|Age|               Email| Location|\n",
      "+-----------+------------+---+--------------------+---------+\n",
      "|          1|    John Doe| 34| johndoe@example.com| New York|\n",
      "|          3|Mike Johnson| 45|   mikej@example.com|  Chicago|\n",
      "|          5| David Brown| 40|davidbrown@exampl...|  Houston|\n",
      "|          6| Emily Davis| 26|emilydavis@exampl...|   Boston|\n",
      "|          7|Chris Wilson| 38|chriswilson@examp...|San Diego|\n",
      "|         10|  Lisa Green| 33|lisagreen@example...|  Seattle|\n",
      "+-----------+------------+---+--------------------+---------+\n",
      "\n"
     ]
    }
   ],
   "source": [
    "df_pyspark.na.drop().show()"
   ]
  },
  {
   "cell_type": "code",
   "execution_count": 29,
   "id": "8491c49a-6074-4f97-87ba-abfb35aebc4c",
   "metadata": {},
   "outputs": [
    {
     "name": "stdout",
     "output_type": "stream",
     "text": [
      "+-----------+-------------+----+--------------------+---------+\n",
      "|Customer ID|         Name| Age|               Email| Location|\n",
      "+-----------+-------------+----+--------------------+---------+\n",
      "|          1|     John Doe|  34| johndoe@example.com| New York|\n",
      "|          2|   Jane Smith|  28|janesmith@example...|     NULL|\n",
      "|          3| Mike Johnson|  45|   mikej@example.com|  Chicago|\n",
      "|          4|    Sarah Lee|  32|sarahlee@example.com|     NULL|\n",
      "|          5|  David Brown|  40|davidbrown@exampl...|  Houston|\n",
      "|          6|  Emily Davis|  26|emilydavis@exampl...|   Boston|\n",
      "|          7| Chris Wilson|  38|chriswilson@examp...|San Diego|\n",
      "|          8|Jessica Clark|NULL|jessicac@example.com|   Dallas|\n",
      "|          9| Robert White|  50|                NULL|  Atlanta|\n",
      "|         10|   Lisa Green|  33|lisagreen@example...|  Seattle|\n",
      "+-----------+-------------+----+--------------------+---------+\n",
      "\n"
     ]
    }
   ],
   "source": [
    "df_pyspark.na.drop(how = \"all\").show()"
   ]
  },
  {
   "cell_type": "code",
   "execution_count": 31,
   "id": "3663bd32-7ace-41fc-96d7-c59860060e1b",
   "metadata": {},
   "outputs": [
    {
     "name": "stdout",
     "output_type": "stream",
     "text": [
      "+-----------+------------+---+--------------------+---------+\n",
      "|Customer ID|        Name|Age|               Email| Location|\n",
      "+-----------+------------+---+--------------------+---------+\n",
      "|          1|    John Doe| 34| johndoe@example.com| New York|\n",
      "|          3|Mike Johnson| 45|   mikej@example.com|  Chicago|\n",
      "|          5| David Brown| 40|davidbrown@exampl...|  Houston|\n",
      "|          6| Emily Davis| 26|emilydavis@exampl...|   Boston|\n",
      "|          7|Chris Wilson| 38|chriswilson@examp...|San Diego|\n",
      "|         10|  Lisa Green| 33|lisagreen@example...|  Seattle|\n",
      "+-----------+------------+---+--------------------+---------+\n",
      "\n"
     ]
    }
   ],
   "source": [
    "df_pyspark.na.drop(how = \"any\").show()"
   ]
  },
  {
   "cell_type": "code",
   "execution_count": 35,
   "id": "b332844c-f06f-4023-ad4f-d129fde21212",
   "metadata": {},
   "outputs": [
    {
     "name": "stdout",
     "output_type": "stream",
     "text": [
      "+-----------+-------------+----+--------------------+---------+\n",
      "|Customer ID|         Name| Age|               Email| Location|\n",
      "+-----------+-------------+----+--------------------+---------+\n",
      "|          1|     John Doe|  34| johndoe@example.com| New York|\n",
      "|          2|   Jane Smith|  28|janesmith@example...|     NULL|\n",
      "|          3| Mike Johnson|  45|   mikej@example.com|  Chicago|\n",
      "|          4|    Sarah Lee|  32|sarahlee@example.com|     NULL|\n",
      "|          5|  David Brown|  40|davidbrown@exampl...|  Houston|\n",
      "|          6|  Emily Davis|  26|emilydavis@exampl...|   Boston|\n",
      "|          7| Chris Wilson|  38|chriswilson@examp...|San Diego|\n",
      "|          8|Jessica Clark|NULL|jessicac@example.com|   Dallas|\n",
      "|          9| Robert White|  50|                NULL|  Atlanta|\n",
      "|         10|   Lisa Green|  33|lisagreen@example...|  Seattle|\n",
      "+-----------+-------------+----+--------------------+---------+\n",
      "\n"
     ]
    }
   ],
   "source": [
    "#threshold\n",
    "\n",
    "df_pyspark.na.drop(thresh = 1).show()"
   ]
  },
  {
   "cell_type": "code",
   "execution_count": 39,
   "id": "abea47f4-58e0-4067-9ba6-3b3678f03802",
   "metadata": {},
   "outputs": [
    {
     "name": "stdout",
     "output_type": "stream",
     "text": [
      "+-----------+------------+---+--------------------+---------+\n",
      "|Customer ID|        Name|Age|               Email| Location|\n",
      "+-----------+------------+---+--------------------+---------+\n",
      "|          1|    John Doe| 34| johndoe@example.com| New York|\n",
      "|          2|  Jane Smith| 28|janesmith@example...|     NULL|\n",
      "|          3|Mike Johnson| 45|   mikej@example.com|  Chicago|\n",
      "|          4|   Sarah Lee| 32|sarahlee@example.com|     NULL|\n",
      "|          5| David Brown| 40|davidbrown@exampl...|  Houston|\n",
      "|          6| Emily Davis| 26|emilydavis@exampl...|   Boston|\n",
      "|          7|Chris Wilson| 38|chriswilson@examp...|San Diego|\n",
      "|         10|  Lisa Green| 33|lisagreen@example...|  Seattle|\n",
      "+-----------+------------+---+--------------------+---------+\n",
      "\n"
     ]
    }
   ],
   "source": [
    "#subset \n",
    "\n",
    "df_pyspark.na.drop(how = \"any\" , subset = ['age','Email']).show()"
   ]
  },
  {
   "cell_type": "code",
   "execution_count": 43,
   "id": "b0574f1b-8cc7-4541-8438-b2d0a2e441d7",
   "metadata": {},
   "outputs": [
    {
     "name": "stdout",
     "output_type": "stream",
     "text": [
      "+-----------+-------------+----+--------------------+-------------+\n",
      "|Customer ID|         Name| Age|               Email|     Location|\n",
      "+-----------+-------------+----+--------------------+-------------+\n",
      "|          1|     John Doe|  34| johndoe@example.com|     New York|\n",
      "|          2|   Jane Smith|  28|janesmith@example...|missing value|\n",
      "|          3| Mike Johnson|  45|   mikej@example.com|      Chicago|\n",
      "|          4|    Sarah Lee|  32|sarahlee@example.com|missing value|\n",
      "|          5|  David Brown|  40|davidbrown@exampl...|      Houston|\n",
      "|          6|  Emily Davis|  26|emilydavis@exampl...|       Boston|\n",
      "|          7| Chris Wilson|  38|chriswilson@examp...|    San Diego|\n",
      "|          8|Jessica Clark|NULL|jessicac@example.com|       Dallas|\n",
      "|          9| Robert White|  50|       missing value|      Atlanta|\n",
      "|         10|   Lisa Green|  33|lisagreen@example...|      Seattle|\n",
      "+-----------+-------------+----+--------------------+-------------+\n",
      "\n"
     ]
    }
   ],
   "source": [
    "df_pyspark.na.fill(\"missing value\").show()"
   ]
  },
  {
   "cell_type": "code",
   "execution_count": 45,
   "id": "53fa49a8-3f82-4e51-b1c2-7aca87c5401e",
   "metadata": {},
   "outputs": [
    {
     "name": "stdout",
     "output_type": "stream",
     "text": [
      "+-----------+-------------+----+--------------------+---------+\n",
      "|Customer ID|         Name| Age|               Email| Location|\n",
      "+-----------+-------------+----+--------------------+---------+\n",
      "|          1|     John Doe|  34| johndoe@example.com| New York|\n",
      "|          2|   Jane Smith|  28|janesmith@example...|     NULL|\n",
      "|          3| Mike Johnson|  45|   mikej@example.com|  Chicago|\n",
      "|          4|    Sarah Lee|  32|sarahlee@example.com|     NULL|\n",
      "|          5|  David Brown|  40|davidbrown@exampl...|  Houston|\n",
      "|          6|  Emily Davis|  26|emilydavis@exampl...|   Boston|\n",
      "|          7| Chris Wilson|  38|chriswilson@examp...|San Diego|\n",
      "|          8|Jessica Clark|NULL|jessicac@example.com|   Dallas|\n",
      "|          9| Robert White|  50|       missing value|  Atlanta|\n",
      "|         10|   Lisa Green|  33|lisagreen@example...|  Seattle|\n",
      "+-----------+-------------+----+--------------------+---------+\n",
      "\n"
     ]
    }
   ],
   "source": [
    "df_pyspark.na.fill(\"missing value\" , subset=['email']).show()"
   ]
  },
  {
   "cell_type": "code",
   "execution_count": 49,
   "id": "c5c308c5-727f-4aee-8734-ff412680a46c",
   "metadata": {},
   "outputs": [
    {
     "name": "stdout",
     "output_type": "stream",
     "text": [
      "+-----------+-------------+----+--------------------+---------+\n",
      "|Customer ID|         Name| Age|               Email| Location|\n",
      "+-----------+-------------+----+--------------------+---------+\n",
      "|          1|     John Doe|  34| johndoe@example.com| New York|\n",
      "|          2|   Jane Smith|  28|janesmith@example...|     NULL|\n",
      "|          3| Mike Johnson|  45|   mikej@example.com|  Chicago|\n",
      "|          4|    Sarah Lee|  32|sarahlee@example.com|     NULL|\n",
      "|          5|  David Brown|  40|davidbrown@exampl...|  Houston|\n",
      "|          6|  Emily Davis|  26|emilydavis@exampl...|   Boston|\n",
      "|          7| Chris Wilson|  38|chriswilson@examp...|San Diego|\n",
      "|          8|Jessica Clark|NULL|jessicac@example.com|   Dallas|\n",
      "|          9| Robert White|  50|                NULL|  Atlanta|\n",
      "|         10|   Lisa Green|  33|lisagreen@example...|  Seattle|\n",
      "+-----------+-------------+----+--------------------+---------+\n",
      "\n"
     ]
    }
   ],
   "source": [
    "df_pyspark.show()\n"
   ]
  },
  {
   "cell_type": "code",
   "execution_count": null,
   "id": "6978c708-0c9d-49b8-8db9-91f76a90b23c",
   "metadata": {},
   "outputs": [],
   "source": [
    "##end\n"
   ]
  }
 ],
 "metadata": {
  "kernelspec": {
   "display_name": "Python [conda env:base] *",
   "language": "python",
   "name": "conda-base-py"
  },
  "language_info": {
   "codemirror_mode": {
    "name": "ipython",
    "version": 3
   },
   "file_extension": ".py",
   "mimetype": "text/x-python",
   "name": "python",
   "nbconvert_exporter": "python",
   "pygments_lexer": "ipython3",
   "version": "3.12.7"
  }
 },
 "nbformat": 4,
 "nbformat_minor": 5
}
