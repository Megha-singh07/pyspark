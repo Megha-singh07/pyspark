{
 "cells": [
  {
   "cell_type": "code",
   "execution_count": 1,
   "id": "b8770135-50d6-4afe-9b56-ada8abf0b11f",
   "metadata": {},
   "outputs": [
    {
     "data": {
      "text/plain": [
       "1"
      ]
     },
     "execution_count": 1,
     "metadata": {},
     "output_type": "execute_result"
    }
   ],
   "source": [
    "1"
   ]
  },
  {
   "cell_type": "code",
   "execution_count": 3,
   "id": "0fccb8b7-e39c-4edd-9227-cba359eb7648",
   "metadata": {},
   "outputs": [
    {
     "data": {
      "text/plain": [
       "1.2"
      ]
     },
     "execution_count": 3,
     "metadata": {},
     "output_type": "execute_result"
    }
   ],
   "source": [
    "1.2"
   ]
  },
  {
   "cell_type": "code",
   "execution_count": 5,
   "id": "d2e5f96e-5774-4abf-864b-86ce659381ad",
   "metadata": {},
   "outputs": [
    {
     "data": {
      "text/plain": [
       "1.0"
      ]
     },
     "execution_count": 5,
     "metadata": {},
     "output_type": "execute_result"
    }
   ],
   "source": [
    "1.0"
   ]
  },
  {
   "cell_type": "code",
   "execution_count": 7,
   "id": "01cc0a95-3e90-45af-957a-45b9137b3324",
   "metadata": {},
   "outputs": [
    {
     "data": {
      "text/plain": [
       "2"
      ]
     },
     "execution_count": 7,
     "metadata": {},
     "output_type": "execute_result"
    }
   ],
   "source": [
    "1+1"
   ]
  },
  {
   "cell_type": "code",
   "execution_count": 9,
   "id": "4cf5aecf-1314-46ec-a735-2a35f4aee122",
   "metadata": {},
   "outputs": [
    {
     "data": {
      "text/plain": [
       "3"
      ]
     },
     "execution_count": 9,
     "metadata": {},
     "output_type": "execute_result"
    }
   ],
   "source": [
    "1*3"
   ]
  },
  {
   "cell_type": "code",
   "execution_count": 11,
   "id": "40b10191-1ecd-44ea-ad9c-6ade044754d4",
   "metadata": {},
   "outputs": [
    {
     "data": {
      "text/plain": [
       "0.5"
      ]
     },
     "execution_count": 11,
     "metadata": {},
     "output_type": "execute_result"
    }
   ],
   "source": [
    "1/2.0"
   ]
  },
  {
   "cell_type": "code",
   "execution_count": 13,
   "id": "68625442-43d9-4e68-936b-6cf0f3603625",
   "metadata": {},
   "outputs": [
    {
     "data": {
      "text/plain": [
       "16"
      ]
     },
     "execution_count": 13,
     "metadata": {},
     "output_type": "execute_result"
    }
   ],
   "source": [
    "2**4"
   ]
  },
  {
   "cell_type": "code",
   "execution_count": 15,
   "id": "dab56a68-a749-4a58-a3c8-5bcdcd85dbb9",
   "metadata": {},
   "outputs": [
    {
     "data": {
      "text/plain": [
       "22"
      ]
     },
     "execution_count": 15,
     "metadata": {},
     "output_type": "execute_result"
    }
   ],
   "source": [
    "2+3*5+5"
   ]
  },
  {
   "cell_type": "code",
   "execution_count": 17,
   "id": "6e14e573-5424-42e7-b5ad-33c7bbe7cdce",
   "metadata": {},
   "outputs": [
    {
     "data": {
      "text/plain": [
       "50"
      ]
     },
     "execution_count": 17,
     "metadata": {},
     "output_type": "execute_result"
    }
   ],
   "source": [
    "(2+3)*(5+5)"
   ]
  },
  {
   "cell_type": "code",
   "execution_count": 21,
   "id": "58043ba0-aff2-4023-85fc-d3864948d446",
   "metadata": {},
   "outputs": [
    {
     "data": {
      "text/plain": [
       "0"
      ]
     },
     "execution_count": 21,
     "metadata": {},
     "output_type": "execute_result"
    }
   ],
   "source": [
    "4 % 2"
   ]
  },
  {
   "cell_type": "code",
   "execution_count": 25,
   "id": "740354a9-dce4-4415-97a2-245072b3e040",
   "metadata": {},
   "outputs": [
    {
     "data": {
      "text/plain": [
       "1"
      ]
     },
     "execution_count": 25,
     "metadata": {},
     "output_type": "execute_result"
    }
   ],
   "source": [
    "5 % 2"
   ]
  },
  {
   "cell_type": "code",
   "execution_count": 31,
   "id": "e0c0175d-e5fe-4f6c-89f8-70ad0f522e63",
   "metadata": {},
   "outputs": [],
   "source": [
    "var = 2"
   ]
  },
  {
   "cell_type": "code",
   "execution_count": 33,
   "id": "28ab78c1-1aff-40a6-96b2-2e0dd0f8e5c1",
   "metadata": {},
   "outputs": [
    {
     "data": {
      "text/plain": [
       "2"
      ]
     },
     "execution_count": 33,
     "metadata": {},
     "output_type": "execute_result"
    }
   ],
   "source": [
    "var"
   ]
  },
  {
   "cell_type": "code",
   "execution_count": 35,
   "id": "0bf7fbce-a6c8-4d36-a658-fa96c2f732ce",
   "metadata": {},
   "outputs": [],
   "source": [
    "x = 2\n",
    "y = 3"
   ]
  },
  {
   "cell_type": "code",
   "execution_count": 37,
   "id": "bb2fc538-2cb4-42b9-9b46-8130b4e53c34",
   "metadata": {},
   "outputs": [
    {
     "data": {
      "text/plain": [
       "5"
      ]
     },
     "execution_count": 37,
     "metadata": {},
     "output_type": "execute_result"
    }
   ],
   "source": [
    "x + y "
   ]
  },
  {
   "cell_type": "code",
   "execution_count": 39,
   "id": "c4c9e877-0bed-46e5-9dcd-4fac0e193ff3",
   "metadata": {},
   "outputs": [],
   "source": [
    "x = x + x"
   ]
  },
  {
   "cell_type": "code",
   "execution_count": 41,
   "id": "72850f80-1daa-40b4-846e-2cb34df012c6",
   "metadata": {},
   "outputs": [
    {
     "data": {
      "text/plain": [
       "4"
      ]
     },
     "execution_count": 41,
     "metadata": {},
     "output_type": "execute_result"
    }
   ],
   "source": [
    "x"
   ]
  },
  {
   "cell_type": "code",
   "execution_count": 45,
   "id": "1c4fe5a5-6e8f-49ce-84c1-b7778ab464cd",
   "metadata": {},
   "outputs": [],
   "source": [
    "x = x + x "
   ]
  },
  {
   "cell_type": "code",
   "execution_count": 47,
   "id": "c6919ce5-67c8-4fb1-8b73-5c6399f98397",
   "metadata": {},
   "outputs": [
    {
     "data": {
      "text/plain": [
       "8"
      ]
     },
     "execution_count": 47,
     "metadata": {},
     "output_type": "execute_result"
    }
   ],
   "source": [
    "x"
   ]
  },
  {
   "cell_type": "code",
   "execution_count": 49,
   "id": "ffdac585-a835-4527-8a3a-bf3f44b432c6",
   "metadata": {},
   "outputs": [
    {
     "data": {
      "text/plain": [
       "'single quote'"
      ]
     },
     "execution_count": 49,
     "metadata": {},
     "output_type": "execute_result"
    }
   ],
   "source": [
    "#strings \n",
    "\n",
    "'single quote'"
   ]
  },
  {
   "cell_type": "code",
   "execution_count": 51,
   "id": "99510d8a-8b9b-4f31-b06e-25191defe759",
   "metadata": {},
   "outputs": [
    {
     "data": {
      "text/plain": [
       "'this is a string'"
      ]
     },
     "execution_count": 51,
     "metadata": {},
     "output_type": "execute_result"
    }
   ],
   "source": [
    "\"this is a string\""
   ]
  },
  {
   "cell_type": "code",
   "execution_count": 53,
   "id": "dda69855-a911-4213-8302-8873a0335415",
   "metadata": {},
   "outputs": [
    {
     "data": {
      "text/plain": [
       "\" i can't go \""
      ]
     },
     "execution_count": 53,
     "metadata": {},
     "output_type": "execute_result"
    }
   ],
   "source": [
    "\" i can't go \""
   ]
  },
  {
   "cell_type": "code",
   "execution_count": 55,
   "id": "516a8304-206e-437d-b63b-6eee5daeacc4",
   "metadata": {},
   "outputs": [],
   "source": [
    "x = 'hello'"
   ]
  },
  {
   "cell_type": "code",
   "execution_count": 57,
   "id": "3ec47be9-a95a-4666-99a0-b09c05e24536",
   "metadata": {},
   "outputs": [
    {
     "data": {
      "text/plain": [
       "'hello'"
      ]
     },
     "execution_count": 57,
     "metadata": {},
     "output_type": "execute_result"
    }
   ],
   "source": [
    "x"
   ]
  },
  {
   "cell_type": "code",
   "execution_count": 59,
   "id": "9b562710-54bf-4289-b9bc-b509968327c6",
   "metadata": {},
   "outputs": [
    {
     "name": "stdout",
     "output_type": "stream",
     "text": [
      "hello\n"
     ]
    }
   ],
   "source": [
    "print(x)"
   ]
  },
  {
   "cell_type": "code",
   "execution_count": 61,
   "id": "4cbbf354-1629-44a8-bdac-0bdc432c7b62",
   "metadata": {},
   "outputs": [],
   "source": [
    "num = 12 \n",
    "name = 'megha'"
   ]
  },
  {
   "cell_type": "code",
   "execution_count": 65,
   "id": "19eae5b3-e8ca-4dd7-abe4-8f557ad92298",
   "metadata": {},
   "outputs": [
    {
     "name": "stdout",
     "output_type": "stream",
     "text": [
      "My Number is 12 and my name is megha\n"
     ]
    }
   ],
   "source": [
    "print('My Number is {} and my name is {}'.format(num,name))"
   ]
  },
  {
   "cell_type": "code",
   "execution_count": 69,
   "id": "85220281-10f8-4afc-b771-6bb535da549a",
   "metadata": {},
   "outputs": [
    {
     "name": "stdout",
     "output_type": "stream",
     "text": [
      "My Number is 12 and my name is megha , more 12 \n"
     ]
    }
   ],
   "source": [
    "print('My Number is {one} and my name is {two} , more {one} '.format(one = num,two = name))"
   ]
  },
  {
   "cell_type": "code",
   "execution_count": 71,
   "id": "90cc8816-f9d1-4dd3-950f-86b6b1489c13",
   "metadata": {},
   "outputs": [],
   "source": [
    "s = 'hello'"
   ]
  },
  {
   "cell_type": "code",
   "execution_count": 73,
   "id": "c8339f2e-2f8a-4323-8aea-b250426f5843",
   "metadata": {},
   "outputs": [
    {
     "data": {
      "text/plain": [
       "'e'"
      ]
     },
     "execution_count": 73,
     "metadata": {},
     "output_type": "execute_result"
    }
   ],
   "source": [
    "s[1]"
   ]
  },
  {
   "cell_type": "code",
   "execution_count": 75,
   "id": "18e012a6-e5ff-4a73-a308-8e863d4fc198",
   "metadata": {},
   "outputs": [
    {
     "data": {
      "text/plain": [
       "'h'"
      ]
     },
     "execution_count": 75,
     "metadata": {},
     "output_type": "execute_result"
    }
   ],
   "source": [
    "s[0]"
   ]
  },
  {
   "cell_type": "code",
   "execution_count": 77,
   "id": "a824da49-4f0f-4d79-98a1-84287bd3157b",
   "metadata": {},
   "outputs": [
    {
     "data": {
      "text/plain": [
       "'o'"
      ]
     },
     "execution_count": 77,
     "metadata": {},
     "output_type": "execute_result"
    }
   ],
   "source": [
    "s[4]"
   ]
  },
  {
   "cell_type": "code",
   "execution_count": 79,
   "id": "9814a4c9-4935-40b7-b16e-0d5068d21c76",
   "metadata": {},
   "outputs": [
    {
     "data": {
      "text/plain": [
       "'o'"
      ]
     },
     "execution_count": 79,
     "metadata": {},
     "output_type": "execute_result"
    }
   ],
   "source": [
    "s[-1]"
   ]
  },
  {
   "cell_type": "code",
   "execution_count": 81,
   "id": "c7c7ece0-b048-4b9f-a5b2-35506feedf3a",
   "metadata": {},
   "outputs": [],
   "source": [
    "s = 'abcdefghijk'"
   ]
  },
  {
   "cell_type": "code",
   "execution_count": 83,
   "id": "96356fd5-8136-4ee6-89d3-88ca983875ce",
   "metadata": {},
   "outputs": [
    {
     "data": {
      "text/plain": [
       "'a'"
      ]
     },
     "execution_count": 83,
     "metadata": {},
     "output_type": "execute_result"
    }
   ],
   "source": [
    "s[0]"
   ]
  },
  {
   "cell_type": "code",
   "execution_count": 85,
   "id": "c093c6a6-2d94-4f08-91d8-f17d6db95597",
   "metadata": {},
   "outputs": [
    {
     "data": {
      "text/plain": [
       "'abcdefghijk'"
      ]
     },
     "execution_count": 85,
     "metadata": {},
     "output_type": "execute_result"
    }
   ],
   "source": [
    "s[0:]"
   ]
  },
  {
   "cell_type": "code",
   "execution_count": 87,
   "id": "f5391065-bdd3-478b-9697-13b8b79020a9",
   "metadata": {},
   "outputs": [
    {
     "data": {
      "text/plain": [
       "'abc'"
      ]
     },
     "execution_count": 87,
     "metadata": {},
     "output_type": "execute_result"
    }
   ],
   "source": [
    "s[:3]"
   ]
  },
  {
   "cell_type": "code",
   "execution_count": 89,
   "id": "0718aee0-f80c-4467-b18d-da4eb8fd85f0",
   "metadata": {},
   "outputs": [
    {
     "data": {
      "text/plain": [
       "'def'"
      ]
     },
     "execution_count": 89,
     "metadata": {},
     "output_type": "execute_result"
    }
   ],
   "source": [
    "s[3:6]"
   ]
  },
  {
   "cell_type": "code",
   "execution_count": 91,
   "id": "8dfafe9f-4c69-429c-83fd-a4aec75cbfeb",
   "metadata": {},
   "outputs": [
    {
     "data": {
      "text/plain": [
       "[1, 2, 3]"
      ]
     },
     "execution_count": 91,
     "metadata": {},
     "output_type": "execute_result"
    }
   ],
   "source": [
    "[1,2,3]"
   ]
  },
  {
   "cell_type": "code",
   "execution_count": 93,
   "id": "15cb9ce9-ca63-448b-a268-7d28c930e887",
   "metadata": {},
   "outputs": [
    {
     "data": {
      "text/plain": [
       "['a', 'b', 'c']"
      ]
     },
     "execution_count": 93,
     "metadata": {},
     "output_type": "execute_result"
    }
   ],
   "source": [
    "['a','b','c']"
   ]
  },
  {
   "cell_type": "code",
   "execution_count": 95,
   "id": "98b37b7d-a11e-4567-a1a2-2d1a2a4ba8df",
   "metadata": {},
   "outputs": [],
   "source": [
    "my_list = [ 'a' , 'b' , 'c']"
   ]
  },
  {
   "cell_type": "code",
   "execution_count": 97,
   "id": "17f0c2c4-a8fe-4ef0-bc03-f1873e1bd6fd",
   "metadata": {},
   "outputs": [
    {
     "data": {
      "text/plain": [
       "['a', 'b', 'c']"
      ]
     },
     "execution_count": 97,
     "metadata": {},
     "output_type": "execute_result"
    }
   ],
   "source": [
    "my_list"
   ]
  },
  {
   "cell_type": "code",
   "execution_count": 99,
   "id": "d3d07a70-43fa-41db-91cb-f0fd87af5c6c",
   "metadata": {},
   "outputs": [],
   "source": [
    "my_list.append('d')"
   ]
  },
  {
   "cell_type": "code",
   "execution_count": 101,
   "id": "baf4cbc6-2cb2-44ea-92fe-7541ebb184a8",
   "metadata": {},
   "outputs": [
    {
     "data": {
      "text/plain": [
       "['a', 'b', 'c', 'd']"
      ]
     },
     "execution_count": 101,
     "metadata": {},
     "output_type": "execute_result"
    }
   ],
   "source": [
    "my_list"
   ]
  },
  {
   "cell_type": "code",
   "execution_count": 103,
   "id": "6525ddd1-250c-4c6d-b123-a183b4e8187f",
   "metadata": {},
   "outputs": [
    {
     "data": {
      "text/plain": [
       "['b', 'c']"
      ]
     },
     "execution_count": 103,
     "metadata": {},
     "output_type": "execute_result"
    }
   ],
   "source": [
    "my_list[1:3]"
   ]
  },
  {
   "cell_type": "code",
   "execution_count": 105,
   "id": "1dd94d0f-a1a8-4ca2-86d1-659b62d2bb07",
   "metadata": {},
   "outputs": [],
   "source": [
    "my_list[0] = 'new'"
   ]
  },
  {
   "cell_type": "code",
   "execution_count": 107,
   "id": "478ccc4c-883e-432f-8ca7-4c61f9be2ae3",
   "metadata": {},
   "outputs": [
    {
     "data": {
      "text/plain": [
       "['new', 'b', 'c', 'd']"
      ]
     },
     "execution_count": 107,
     "metadata": {},
     "output_type": "execute_result"
    }
   ],
   "source": [
    "my_list"
   ]
  },
  {
   "cell_type": "code",
   "execution_count": 109,
   "id": "dd46d9ac-c494-4068-9611-75f1cf4b40d6",
   "metadata": {},
   "outputs": [],
   "source": [
    "nest = [1,2,3,[4,5,['target']]]"
   ]
  },
  {
   "cell_type": "code",
   "execution_count": 111,
   "id": "9eb7f1dc-1b1b-4a04-8199-2cf80d26a665",
   "metadata": {},
   "outputs": [
    {
     "data": {
      "text/plain": [
       "['target']"
      ]
     },
     "execution_count": 111,
     "metadata": {},
     "output_type": "execute_result"
    }
   ],
   "source": [
    "nest[3][2]"
   ]
  },
  {
   "cell_type": "code",
   "execution_count": 115,
   "id": "a1c07747-76f2-47c9-bbc6-8b733b8e2ff1",
   "metadata": {},
   "outputs": [
    {
     "name": "stdout",
     "output_type": "stream",
     "text": [
      "4\n"
     ]
    }
   ],
   "source": [
    "print(nest[3][0])"
   ]
  },
  {
   "cell_type": "code",
   "execution_count": 117,
   "id": "c4bd825d-f1d3-47f7-b68a-b16fbff783b6",
   "metadata": {},
   "outputs": [],
   "source": [
    "d = { 'key2':'value2' , 'key1':123}"
   ]
  },
  {
   "cell_type": "code",
   "execution_count": 119,
   "id": "f2b39f23-e1ac-45a8-abee-279363c54855",
   "metadata": {},
   "outputs": [
    {
     "data": {
      "text/plain": [
       "123"
      ]
     },
     "execution_count": 119,
     "metadata": {},
     "output_type": "execute_result"
    }
   ],
   "source": [
    "d['key1']"
   ]
  },
  {
   "cell_type": "code",
   "execution_count": 121,
   "id": "1c69419e-dcda-4370-a3ba-ce5021896cf7",
   "metadata": {},
   "outputs": [],
   "source": [
    "d = { 'k1':{'innerkey':[1,2,3]}}"
   ]
  },
  {
   "cell_type": "code",
   "execution_count": 123,
   "id": "8989056f-7787-4ad7-a3c4-2b0e23423a4b",
   "metadata": {},
   "outputs": [
    {
     "data": {
      "text/plain": [
       "{'innerkey': [1, 2, 3]}"
      ]
     },
     "execution_count": 123,
     "metadata": {},
     "output_type": "execute_result"
    }
   ],
   "source": [
    "d['k1']"
   ]
  },
  {
   "cell_type": "code",
   "execution_count": 127,
   "id": "506c0533-3078-4b7f-ac05-01199a54cb37",
   "metadata": {},
   "outputs": [
    {
     "data": {
      "text/plain": [
       "True"
      ]
     },
     "execution_count": 127,
     "metadata": {},
     "output_type": "execute_result"
    }
   ],
   "source": [
    "True"
   ]
  },
  {
   "cell_type": "code",
   "execution_count": 129,
   "id": "a23e9951-791e-4eac-811b-6842cefdb608",
   "metadata": {},
   "outputs": [
    {
     "data": {
      "text/plain": [
       "False"
      ]
     },
     "execution_count": 129,
     "metadata": {},
     "output_type": "execute_result"
    }
   ],
   "source": [
    "False"
   ]
  },
  {
   "cell_type": "code",
   "execution_count": 131,
   "id": "34a2c711-4bdb-4c1a-aa0d-28de205ced71",
   "metadata": {},
   "outputs": [],
   "source": [
    "my_list = [1,2,3]"
   ]
  },
  {
   "cell_type": "code",
   "execution_count": 133,
   "id": "63f4ae84-dcfd-4398-953c-5076a6e453aa",
   "metadata": {},
   "outputs": [
    {
     "data": {
      "text/plain": [
       "2"
      ]
     },
     "execution_count": 133,
     "metadata": {},
     "output_type": "execute_result"
    }
   ],
   "source": [
    "my_list[1]"
   ]
  },
  {
   "cell_type": "code",
   "execution_count": 135,
   "id": "6b36e21e-f608-4f52-aabe-5852e420b231",
   "metadata": {},
   "outputs": [],
   "source": [
    "t = (1,2,3)"
   ]
  },
  {
   "cell_type": "code",
   "execution_count": 137,
   "id": "5328f7c2-a545-444a-bbad-d95efb6cd04c",
   "metadata": {},
   "outputs": [
    {
     "data": {
      "text/plain": [
       "1"
      ]
     },
     "execution_count": 137,
     "metadata": {},
     "output_type": "execute_result"
    }
   ],
   "source": [
    "t[0]"
   ]
  },
  {
   "cell_type": "code",
   "execution_count": 141,
   "id": "05da18a8-e005-492f-b16d-e7cf8ba71e77",
   "metadata": {},
   "outputs": [
    {
     "ename": "TypeError",
     "evalue": "'tuple' object does not support item assignment",
     "output_type": "error",
     "traceback": [
      "\u001b[1;31m---------------------------------------------------------------------------\u001b[0m",
      "\u001b[1;31mTypeError\u001b[0m                                 Traceback (most recent call last)",
      "Cell \u001b[1;32mIn[141], line 1\u001b[0m\n\u001b[1;32m----> 1\u001b[0m t[\u001b[38;5;241m0\u001b[39m] \u001b[38;5;241m=\u001b[39m \u001b[38;5;124m'\u001b[39m\u001b[38;5;124mnew\u001b[39m\u001b[38;5;124m'\u001b[39m\n",
      "\u001b[1;31mTypeError\u001b[0m: 'tuple' object does not support item assignment"
     ]
    }
   ],
   "source": [
    "t[0] = 'new'"
   ]
  },
  {
   "cell_type": "code",
   "execution_count": 143,
   "id": "811e1a81-35f1-4823-9fa0-ff3f1797b127",
   "metadata": {},
   "outputs": [
    {
     "data": {
      "text/plain": [
       "{1, 2, 3, 4}"
      ]
     },
     "execution_count": 143,
     "metadata": {},
     "output_type": "execute_result"
    }
   ],
   "source": [
    "{1,2,3,4,4}"
   ]
  },
  {
   "cell_type": "code",
   "execution_count": 159,
   "id": "7488d5ce-eb6a-489e-bf87-ba4abafa5504",
   "metadata": {},
   "outputs": [],
   "source": [
    "s = {1,2,3,45,3,2}"
   ]
  },
  {
   "cell_type": "code",
   "execution_count": 161,
   "id": "e1c005de-4994-461d-8cea-026fd736e444",
   "metadata": {},
   "outputs": [],
   "source": [
    "s.add(5)"
   ]
  },
  {
   "cell_type": "code",
   "execution_count": 163,
   "id": "12b6a161-faa6-4dcf-a962-f6c8c92278ab",
   "metadata": {},
   "outputs": [
    {
     "data": {
      "text/plain": [
       "{1, 2, 3, 5, 45}"
      ]
     },
     "execution_count": 163,
     "metadata": {},
     "output_type": "execute_result"
    }
   ],
   "source": [
    "s"
   ]
  },
  {
   "cell_type": "code",
   "execution_count": 165,
   "id": "9dff850a-66db-4ce0-a493-ff4dfc284936",
   "metadata": {},
   "outputs": [
    {
     "data": {
      "text/plain": [
       "False"
      ]
     },
     "execution_count": 165,
     "metadata": {},
     "output_type": "execute_result"
    }
   ],
   "source": [
    "1>2"
   ]
  },
  {
   "cell_type": "code",
   "execution_count": 167,
   "id": "fd4b6133-f37f-4279-9c78-64502347c02c",
   "metadata": {},
   "outputs": [
    {
     "data": {
      "text/plain": [
       "True"
      ]
     },
     "execution_count": 167,
     "metadata": {},
     "output_type": "execute_result"
    }
   ],
   "source": [
    "1<2"
   ]
  },
  {
   "cell_type": "code",
   "execution_count": 169,
   "id": "5e64868a-e27f-452b-a019-f6581c20f358",
   "metadata": {},
   "outputs": [
    {
     "data": {
      "text/plain": [
       "False"
      ]
     },
     "execution_count": 169,
     "metadata": {},
     "output_type": "execute_result"
    }
   ],
   "source": [
    "1>= 2"
   ]
  },
  {
   "cell_type": "code",
   "execution_count": 171,
   "id": "eccfdbe1-9773-4fd5-97d8-687aab885953",
   "metadata": {},
   "outputs": [
    {
     "data": {
      "text/plain": [
       "False"
      ]
     },
     "execution_count": 171,
     "metadata": {},
     "output_type": "execute_result"
    }
   ],
   "source": [
    "1==2"
   ]
  },
  {
   "cell_type": "code",
   "execution_count": 173,
   "id": "8467cca8-4938-4752-ba1c-3c54deed9ab4",
   "metadata": {},
   "outputs": [
    {
     "data": {
      "text/plain": [
       "True"
      ]
     },
     "execution_count": 173,
     "metadata": {},
     "output_type": "execute_result"
    }
   ],
   "source": [
    "1<=2"
   ]
  },
  {
   "cell_type": "code",
   "execution_count": 175,
   "id": "4d302aa4-df90-4428-b15e-c4ed93163283",
   "metadata": {},
   "outputs": [
    {
     "data": {
      "text/plain": [
       "True"
      ]
     },
     "execution_count": 175,
     "metadata": {},
     "output_type": "execute_result"
    }
   ],
   "source": [
    "1 != 3"
   ]
  },
  {
   "cell_type": "code",
   "execution_count": 177,
   "id": "e41f5a81-9853-450c-afe8-d82d8a238cfd",
   "metadata": {},
   "outputs": [
    {
     "data": {
      "text/plain": [
       "False"
      ]
     },
     "execution_count": 177,
     "metadata": {},
     "output_type": "execute_result"
    }
   ],
   "source": [
    "1 != 1"
   ]
  },
  {
   "cell_type": "code",
   "execution_count": 179,
   "id": "2e6e16ef-2f49-47c2-bab2-245d93710171",
   "metadata": {},
   "outputs": [
    {
     "data": {
      "text/plain": [
       "True"
      ]
     },
     "execution_count": 179,
     "metadata": {},
     "output_type": "execute_result"
    }
   ],
   "source": [
    "(1 < 2) and (2 < 3)"
   ]
  },
  {
   "cell_type": "code",
   "execution_count": 181,
   "id": "97eac90e-a950-4361-b4af-c3cc100059d0",
   "metadata": {},
   "outputs": [
    {
     "data": {
      "text/plain": [
       "True"
      ]
     },
     "execution_count": 181,
     "metadata": {},
     "output_type": "execute_result"
    }
   ],
   "source": [
    "(1 < 2)  or (2 > 3 ) or (1 == 1)"
   ]
  },
  {
   "cell_type": "code",
   "execution_count": 183,
   "id": "8e5ee205-eddb-48c8-bac0-fdde9a72a662",
   "metadata": {},
   "outputs": [
    {
     "data": {
      "text/plain": [
       "True"
      ]
     },
     "execution_count": 183,
     "metadata": {},
     "output_type": "execute_result"
    }
   ],
   "source": [
    "True or False "
   ]
  },
  {
   "cell_type": "code",
   "execution_count": 185,
   "id": "61175067-87b1-4e1f-9dc3-1c121fc399a4",
   "metadata": {},
   "outputs": [
    {
     "data": {
      "text/plain": [
       "False"
      ]
     },
     "execution_count": 185,
     "metadata": {},
     "output_type": "execute_result"
    }
   ],
   "source": [
    "True and False "
   ]
  },
  {
   "cell_type": "code",
   "execution_count": 187,
   "id": "3907dc92-c490-4d87-a87b-b2fdbe0c488c",
   "metadata": {},
   "outputs": [
    {
     "name": "stdout",
     "output_type": "stream",
     "text": [
      "yep!\n"
     ]
    }
   ],
   "source": [
    "if 1 < 2 :\n",
    "    print ('yep!')"
   ]
  },
  {
   "cell_type": "code",
   "execution_count": 189,
   "id": "1c52cdb2-415f-40a5-93cf-d6f658315352",
   "metadata": {},
   "outputs": [
    {
     "name": "stdout",
     "output_type": "stream",
     "text": [
      "perform code\n"
     ]
    }
   ],
   "source": [
    "if True:\n",
    "    print('perform code')"
   ]
  },
  {
   "cell_type": "code",
   "execution_count": 191,
   "id": "ddb4dc20-4825-489a-8943-235e22a23b70",
   "metadata": {},
   "outputs": [],
   "source": [
    "if True:\n",
    "    x = 2 + 2"
   ]
  },
  {
   "cell_type": "code",
   "execution_count": 193,
   "id": "9ba2dce7-0b90-4c5b-b6c2-e124145a5d57",
   "metadata": {},
   "outputs": [
    {
     "data": {
      "text/plain": [
       "4"
      ]
     },
     "execution_count": 193,
     "metadata": {},
     "output_type": "execute_result"
    }
   ],
   "source": [
    "x"
   ]
  },
  {
   "cell_type": "code",
   "execution_count": 197,
   "id": "f4ac6069-bc0a-444b-8484-b361faa23ff9",
   "metadata": {},
   "outputs": [
    {
     "name": "stdout",
     "output_type": "stream",
     "text": [
      "first\n"
     ]
    }
   ],
   "source": [
    "if 1 != 2:\n",
    "    print('first')\n",
    "else:\n",
    "    print('last')"
   ]
  },
  {
   "cell_type": "code",
   "execution_count": 199,
   "id": "4cfaeb1f-8211-488c-8925-8a24326ea687",
   "metadata": {},
   "outputs": [
    {
     "name": "stdout",
     "output_type": "stream",
     "text": [
      "middle\n"
     ]
    }
   ],
   "source": [
    "if 1 == 2:\n",
    "    print('first')\n",
    "elif 3 == 3:\n",
    "    print('middle')\n",
    "else:\n",
    "    print('last')"
   ]
  },
  {
   "cell_type": "code",
   "execution_count": 216,
   "id": "3554d6f3-3e79-42ef-a86b-489e656ca922",
   "metadata": {},
   "outputs": [
    {
     "name": "stdout",
     "output_type": "stream",
     "text": [
      "hello\n",
      "hello\n",
      "hello\n",
      "hello\n",
      "hello\n"
     ]
    }
   ],
   "source": [
    "seq= [1,2,3,4,5]\n",
    "for num in seq:\n",
    "    print('hello')"
   ]
  },
  {
   "cell_type": "code",
   "execution_count": 220,
   "id": "c3d11c79-acab-4acf-918e-5df369307c94",
   "metadata": {},
   "outputs": [
    {
     "name": "stdout",
     "output_type": "stream",
     "text": [
      "i is : 1\n",
      "i is : 2\n",
      "i is : 3\n",
      "i is : 4\n"
     ]
    }
   ],
   "source": [
    "i = 1 \n",
    "\n",
    "while i < 5:\n",
    "    print( 'i is : {}'.format(i))\n",
    "    i = i + 1 "
   ]
  },
  {
   "cell_type": "code",
   "execution_count": 222,
   "id": "793f4faa-ffd2-4ea7-bcaf-b28e9d539658",
   "metadata": {},
   "outputs": [
    {
     "name": "stdout",
     "output_type": "stream",
     "text": [
      "1\n",
      "2\n",
      "3\n",
      "4\n",
      "5\n"
     ]
    }
   ],
   "source": [
    "for x in seq :\n",
    "    print(x)"
   ]
  },
  {
   "cell_type": "code",
   "execution_count": 224,
   "id": "b6dbc150-d050-4b99-b0da-4a8dc9b340be",
   "metadata": {},
   "outputs": [
    {
     "data": {
      "text/plain": [
       "range(0, 10)"
      ]
     },
     "execution_count": 224,
     "metadata": {},
     "output_type": "execute_result"
    }
   ],
   "source": [
    "range(0,10)"
   ]
  },
  {
   "cell_type": "code",
   "execution_count": 226,
   "id": "05b2ce3d-3d3e-4251-b4b4-bcbbfece9fe9",
   "metadata": {},
   "outputs": [
    {
     "name": "stdout",
     "output_type": "stream",
     "text": [
      "0\n",
      "1\n",
      "2\n",
      "3\n",
      "4\n"
     ]
    }
   ],
   "source": [
    "for x in range(0,5):\n",
    "    print(x)\n"
   ]
  },
  {
   "cell_type": "code",
   "execution_count": 228,
   "id": "9a25b183-bf47-427c-aa03-6435082a1d23",
   "metadata": {},
   "outputs": [
    {
     "data": {
      "text/plain": [
       "[0, 1, 2, 3, 4, 5, 6, 7, 8, 9]"
      ]
     },
     "execution_count": 228,
     "metadata": {},
     "output_type": "execute_result"
    }
   ],
   "source": [
    "list(range(10))"
   ]
  },
  {
   "cell_type": "code",
   "execution_count": 230,
   "id": "e3af58b4-d624-4ced-9f6f-8f686e145584",
   "metadata": {},
   "outputs": [],
   "source": [
    "x = [ 1, 2, 4,5,6,7,4]"
   ]
  },
  {
   "cell_type": "code",
   "execution_count": 232,
   "id": "72f86aaa-39f8-4af7-974e-81195391e8f6",
   "metadata": {},
   "outputs": [],
   "source": [
    "out = []\n",
    "\n",
    "for num in x :\n",
    "    out.append(num **2)"
   ]
  },
  {
   "cell_type": "code",
   "execution_count": 234,
   "id": "bcdb34e1-6f67-4e60-be33-de4ab32ef606",
   "metadata": {},
   "outputs": [
    {
     "name": "stdout",
     "output_type": "stream",
     "text": [
      "[1, 4, 16, 25, 36, 49, 16]\n"
     ]
    }
   ],
   "source": [
    "print (out)"
   ]
  },
  {
   "cell_type": "code",
   "execution_count": 236,
   "id": "ee320e93-e85f-4ba4-9286-990b8b4d80a6",
   "metadata": {},
   "outputs": [
    {
     "data": {
      "text/plain": [
       "[1, 4, 16, 25, 36, 49, 16]"
      ]
     },
     "execution_count": 236,
     "metadata": {},
     "output_type": "execute_result"
    }
   ],
   "source": [
    "[ num**2 for num in x]"
   ]
  },
  {
   "cell_type": "code",
   "execution_count": 238,
   "id": "1cde8bf0-585f-4a1b-a8a4-912f0f18817c",
   "metadata": {},
   "outputs": [],
   "source": [
    "out = [ num**2 for num in x]"
   ]
  },
  {
   "cell_type": "code",
   "execution_count": 240,
   "id": "af787d61-0ace-4c57-920f-a662203ef77e",
   "metadata": {},
   "outputs": [
    {
     "data": {
      "text/plain": [
       "[1, 4, 16, 25, 36, 49, 16]"
      ]
     },
     "execution_count": 240,
     "metadata": {},
     "output_type": "execute_result"
    }
   ],
   "source": [
    "out"
   ]
  },
  {
   "cell_type": "code",
   "execution_count": 250,
   "id": "56f98def-d8f9-41c1-85ba-1f2347f7b378",
   "metadata": {},
   "outputs": [],
   "source": [
    "def my_func(name):\n",
    "    print('hello '+ name)"
   ]
  },
  {
   "cell_type": "code",
   "execution_count": 252,
   "id": "d1c90b01-e210-4c55-98b8-3fedccfb101b",
   "metadata": {},
   "outputs": [
    {
     "name": "stdout",
     "output_type": "stream",
     "text": [
      "hello hello\n"
     ]
    }
   ],
   "source": [
    "my_func('hello')"
   ]
  },
  {
   "cell_type": "code",
   "execution_count": 254,
   "id": "56a1cfd9-151e-44cd-82c1-114ee21bf73f",
   "metadata": {},
   "outputs": [
    {
     "name": "stdout",
     "output_type": "stream",
     "text": [
      "hello megha\n"
     ]
    }
   ],
   "source": [
    "my_func('megha')"
   ]
  },
  {
   "cell_type": "code",
   "execution_count": 256,
   "id": "7a4bccdb-9cca-433b-8e54-d1dec5ae70ad",
   "metadata": {},
   "outputs": [
    {
     "data": {
      "text/plain": [
       "<function __main__.my_func(name)>"
      ]
     },
     "execution_count": 256,
     "metadata": {},
     "output_type": "execute_result"
    }
   ],
   "source": [
    "my_func"
   ]
  },
  {
   "cell_type": "code",
   "execution_count": 264,
   "id": "d6cdf4ad-bb08-4e2d-ab87-8b2b969a370e",
   "metadata": {},
   "outputs": [],
   "source": [
    "def square(num):\n",
    "    \"\"\"\n",
    "    this is  a docstring\n",
    "    multiple lines\n",
    "    \"\"\"\n",
    "    return num **2"
   ]
  },
  {
   "cell_type": "code",
   "execution_count": 260,
   "id": "5207bf0d-9a30-44fa-8444-0490a836494f",
   "metadata": {},
   "outputs": [],
   "source": [
    "output = square(3)"
   ]
  },
  {
   "cell_type": "code",
   "execution_count": 262,
   "id": "48f055a1-f900-40cf-be22-ebf85e10e31a",
   "metadata": {},
   "outputs": [
    {
     "data": {
      "text/plain": [
       "9"
      ]
     },
     "execution_count": 262,
     "metadata": {},
     "output_type": "execute_result"
    }
   ],
   "source": [
    "output"
   ]
  },
  {
   "cell_type": "code",
   "execution_count": 266,
   "id": "dd15e2ff-e4fa-40d1-9277-31bd8a068b0c",
   "metadata": {},
   "outputs": [
    {
     "data": {
      "text/plain": [
       "range"
      ]
     },
     "execution_count": 266,
     "metadata": {},
     "output_type": "execute_result"
    }
   ],
   "source": [
    "range"
   ]
  },
  {
   "cell_type": "code",
   "execution_count": 292,
   "id": "90c3f872-649c-45a0-bfdb-e8dd0121e840",
   "metadata": {},
   "outputs": [],
   "source": [
    "z = lambda var: var*2"
   ]
  },
  {
   "cell_type": "code",
   "execution_count": 294,
   "id": "c9cd5bcb-f1ac-4016-a459-3351138861b9",
   "metadata": {},
   "outputs": [
    {
     "data": {
      "text/plain": [
       "10"
      ]
     },
     "execution_count": 294,
     "metadata": {},
     "output_type": "execute_result"
    }
   ],
   "source": [
    "z(5)"
   ]
  },
  {
   "cell_type": "code",
   "execution_count": 282,
   "id": "f62f402a-e5c3-47be-ba86-4b41e4a7e104",
   "metadata": {},
   "outputs": [],
   "source": [
    "seq = [ 1,2,3,4,5]"
   ]
  },
  {
   "cell_type": "code",
   "execution_count": 298,
   "id": "448ad759-d435-4a12-bc73-75c948c33cc2",
   "metadata": {},
   "outputs": [
    {
     "data": {
      "text/plain": [
       "[3, 6, 9, 12, 15]"
      ]
     },
     "execution_count": 298,
     "metadata": {},
     "output_type": "execute_result"
    }
   ],
   "source": [
    "list(map(lambda var : var*3 ,seq))"
   ]
  },
  {
   "cell_type": "code",
   "execution_count": 300,
   "id": "043ed745-b78c-4b80-a2f7-65c718f74c92",
   "metadata": {},
   "outputs": [
    {
     "data": {
      "text/plain": [
       "[2, 4]"
      ]
     },
     "execution_count": 300,
     "metadata": {},
     "output_type": "execute_result"
    }
   ],
   "source": [
    "list(filter(lambda num : num%2 ==0,seq ))"
   ]
  },
  {
   "cell_type": "code",
   "execution_count": 302,
   "id": "fc1dafc5-3539-467d-9bd8-8b6bdef16e14",
   "metadata": {},
   "outputs": [],
   "source": [
    "s = ' my name is megha'"
   ]
  },
  {
   "cell_type": "code",
   "execution_count": 304,
   "id": "c1447792-6a95-421e-922f-12f67383011f",
   "metadata": {},
   "outputs": [
    {
     "data": {
      "text/plain": [
       "' MY NAME IS MEGHA'"
      ]
     },
     "execution_count": 304,
     "metadata": {},
     "output_type": "execute_result"
    }
   ],
   "source": [
    "s.upper()"
   ]
  },
  {
   "cell_type": "code",
   "execution_count": 306,
   "id": "c7ce62c6-3af1-4e1a-8701-05b647ebb433",
   "metadata": {},
   "outputs": [
    {
     "data": {
      "text/plain": [
       "' my name is megha'"
      ]
     },
     "execution_count": 306,
     "metadata": {},
     "output_type": "execute_result"
    }
   ],
   "source": [
    "s.lower()"
   ]
  },
  {
   "cell_type": "code",
   "execution_count": 308,
   "id": "3b25c5d4-c18f-4ee6-8a63-84d247100656",
   "metadata": {},
   "outputs": [
    {
     "data": {
      "text/plain": [
       "['my', 'name', 'is', 'megha']"
      ]
     },
     "execution_count": 308,
     "metadata": {},
     "output_type": "execute_result"
    }
   ],
   "source": [
    "s.split()"
   ]
  },
  {
   "cell_type": "code",
   "execution_count": 310,
   "id": "c63cb841-db74-4384-9d4b-ab14aa264d30",
   "metadata": {},
   "outputs": [],
   "source": [
    "tweet = ' go sports! #sports'"
   ]
  },
  {
   "cell_type": "code",
   "execution_count": 314,
   "id": "0fc38cb6-8db4-4877-b779-09b901678821",
   "metadata": {},
   "outputs": [
    {
     "data": {
      "text/plain": [
       "'sports'"
      ]
     },
     "execution_count": 314,
     "metadata": {},
     "output_type": "execute_result"
    }
   ],
   "source": [
    "tweet.split('#')[1]"
   ]
  },
  {
   "cell_type": "code",
   "execution_count": 318,
   "id": "36c903d2-36e9-494e-86b4-58e7b31c4a46",
   "metadata": {},
   "outputs": [],
   "source": [
    "d = { 'k1':1,'k2':2}"
   ]
  },
  {
   "cell_type": "code",
   "execution_count": 320,
   "id": "6e8ae9b1-bf07-401e-a23c-291d8ffaeb5e",
   "metadata": {},
   "outputs": [
    {
     "data": {
      "text/plain": [
       "{'k1': 1, 'k2': 2}"
      ]
     },
     "execution_count": 320,
     "metadata": {},
     "output_type": "execute_result"
    }
   ],
   "source": [
    "d"
   ]
  },
  {
   "cell_type": "code",
   "execution_count": 322,
   "id": "6cb15165-81ce-4653-8ba2-d260a7a6cc03",
   "metadata": {},
   "outputs": [
    {
     "data": {
      "text/plain": [
       "dict_keys(['k1', 'k2'])"
      ]
     },
     "execution_count": 322,
     "metadata": {},
     "output_type": "execute_result"
    }
   ],
   "source": [
    "d.keys()"
   ]
  },
  {
   "cell_type": "code",
   "execution_count": 324,
   "id": "39796c55-4f2e-4528-ba92-4ea54e9debcc",
   "metadata": {},
   "outputs": [
    {
     "data": {
      "text/plain": [
       "dict_items([('k1', 1), ('k2', 2)])"
      ]
     },
     "execution_count": 324,
     "metadata": {},
     "output_type": "execute_result"
    }
   ],
   "source": [
    "d.items()"
   ]
  },
  {
   "cell_type": "code",
   "execution_count": 326,
   "id": "3a7fb107-9417-4115-afc0-3c14df8e07f4",
   "metadata": {},
   "outputs": [
    {
     "data": {
      "text/plain": [
       "dict_values([1, 2])"
      ]
     },
     "execution_count": 326,
     "metadata": {},
     "output_type": "execute_result"
    }
   ],
   "source": [
    "d.values()"
   ]
  },
  {
   "cell_type": "code",
   "execution_count": 328,
   "id": "c90865fc-e8b9-42c8-9c21-05fd3d52aa55",
   "metadata": {},
   "outputs": [],
   "source": [
    "lst = [1,2,3]"
   ]
  },
  {
   "cell_type": "code",
   "execution_count": 330,
   "id": "c12ffeed-d151-49f1-928b-b542f11f1ab2",
   "metadata": {},
   "outputs": [
    {
     "data": {
      "text/plain": [
       "3"
      ]
     },
     "execution_count": 330,
     "metadata": {},
     "output_type": "execute_result"
    }
   ],
   "source": [
    "lst.pop()"
   ]
  },
  {
   "cell_type": "code",
   "execution_count": 332,
   "id": "2d589f88-62dc-4a3f-8273-1df5f826227c",
   "metadata": {},
   "outputs": [
    {
     "data": {
      "text/plain": [
       "[1, 2]"
      ]
     },
     "execution_count": 332,
     "metadata": {},
     "output_type": "execute_result"
    }
   ],
   "source": [
    "lst"
   ]
  },
  {
   "cell_type": "code",
   "execution_count": 334,
   "id": "2e77a6fe-1485-4751-bd8b-7769f1111fd0",
   "metadata": {},
   "outputs": [
    {
     "data": {
      "text/plain": [
       "5"
      ]
     },
     "execution_count": 334,
     "metadata": {},
     "output_type": "execute_result"
    }
   ],
   "source": [
    "item"
   ]
  },
  {
   "cell_type": "code",
   "execution_count": 336,
   "id": "ab53d288-1a6e-46f4-8f43-4c627da81b4c",
   "metadata": {},
   "outputs": [
    {
     "data": {
      "text/plain": [
       "[1, 2]"
      ]
     },
     "execution_count": 336,
     "metadata": {},
     "output_type": "execute_result"
    }
   ],
   "source": [
    "lst"
   ]
  },
  {
   "cell_type": "code",
   "execution_count": 338,
   "id": "eb443de0-21db-4921-b14f-e8348539be33",
   "metadata": {},
   "outputs": [],
   "source": [
    "lst.append(3)"
   ]
  },
  {
   "cell_type": "code",
   "execution_count": 340,
   "id": "a288915d-5740-4e75-ac82-6b8ff718d274",
   "metadata": {},
   "outputs": [
    {
     "data": {
      "text/plain": [
       "False"
      ]
     },
     "execution_count": 340,
     "metadata": {},
     "output_type": "execute_result"
    }
   ],
   "source": [
    "x in lst"
   ]
  },
  {
   "cell_type": "code",
   "execution_count": 342,
   "id": "eb91b4e7-4aec-4a1e-920e-be063ff9a0d0",
   "metadata": {},
   "outputs": [
    {
     "data": {
      "text/plain": [
       "True"
      ]
     },
     "execution_count": 342,
     "metadata": {},
     "output_type": "execute_result"
    }
   ],
   "source": [
    "1 in lst"
   ]
  },
  {
   "cell_type": "code",
   "execution_count": 348,
   "id": "c8f22ca1-e337-479e-aa63-d079aa37bfcd",
   "metadata": {},
   "outputs": [],
   "source": [
    "y = [ (1,2),(3,4),(5,6)]"
   ]
  },
  {
   "cell_type": "code",
   "execution_count": 350,
   "id": "1edd51ab-e4c9-48f7-ad37-d17d7fd3d06f",
   "metadata": {},
   "outputs": [
    {
     "name": "stdout",
     "output_type": "stream",
     "text": [
      "(1, 2)\n",
      "(3, 4)\n",
      "(5, 6)\n"
     ]
    }
   ],
   "source": [
    "for item in y:\n",
    "    print(item)"
   ]
  },
  {
   "cell_type": "code",
   "execution_count": 352,
   "id": "7107de5f-df31-4d58-ab5a-198ff8d54e24",
   "metadata": {},
   "outputs": [
    {
     "name": "stdout",
     "output_type": "stream",
     "text": [
      "2\n",
      "4\n",
      "6\n"
     ]
    }
   ],
   "source": [
    "for a,b in y:\n",
    "    print(b)"
   ]
  },
  {
   "cell_type": "code",
   "execution_count": 354,
   "id": "dd8e486e-86ba-4abf-bcc4-1061d62e75f3",
   "metadata": {},
   "outputs": [
    {
     "data": {
      "text/plain": [
       "2401"
      ]
     },
     "execution_count": 354,
     "metadata": {},
     "output_type": "execute_result"
    }
   ],
   "source": [
    "7**4"
   ]
  },
  {
   "cell_type": "code",
   "execution_count": 356,
   "id": "5a43b2d8-0015-47d3-ae58-d7a679b6b873",
   "metadata": {},
   "outputs": [],
   "source": [
    "s = \"hi there sam\""
   ]
  },
  {
   "cell_type": "code",
   "execution_count": 358,
   "id": "27dd0072-9aba-47c7-b55c-ae335dba539b",
   "metadata": {},
   "outputs": [
    {
     "data": {
      "text/plain": [
       "['hi', 'there', 'sam']"
      ]
     },
     "execution_count": 358,
     "metadata": {},
     "output_type": "execute_result"
    }
   ],
   "source": [
    "s.split()"
   ]
  },
  {
   "cell_type": "code",
   "execution_count": 360,
   "id": "2096fecd-3cc9-41aa-aab2-60940b2bc639",
   "metadata": {},
   "outputs": [],
   "source": [
    "planet = \"earth\"\n",
    "diameter = 12742"
   ]
  },
  {
   "cell_type": "code",
   "execution_count": 364,
   "id": "ce2e5100-10e4-4578-b1d0-bbb33e15ea0f",
   "metadata": {},
   "outputs": [
    {
     "name": "stdout",
     "output_type": "stream",
     "text": [
      "the planet earth has diameter 12742.\n"
     ]
    }
   ],
   "source": [
    "print( 'the planet {} has diameter {}.'.format(planet,diameter))"
   ]
  },
  {
   "cell_type": "code",
   "execution_count": 366,
   "id": "c38881d3-1d0f-4ebc-b1d0-b590ec281dec",
   "metadata": {},
   "outputs": [],
   "source": [
    "d = { 'k1':[1,2,3,{'tricky':['oh','man','inception',{'target':[1,2,3,'hello']}]}]}"
   ]
  },
  {
   "cell_type": "code",
   "execution_count": 374,
   "id": "2d740880-21ed-4aa9-8410-2c4941aa434a",
   "metadata": {},
   "outputs": [
    {
     "data": {
      "text/plain": [
       "{'k1': [1,\n",
       "  2,\n",
       "  3,\n",
       "  {'tricky': ['oh', 'man', 'inception', {'target': [1, 2, 3, 'hello']}]}]}"
      ]
     },
     "execution_count": 374,
     "metadata": {},
     "output_type": "execute_result"
    }
   ],
   "source": [
    "d"
   ]
  },
  {
   "cell_type": "code",
   "execution_count": 400,
   "id": "07236f83-6b7d-45ad-ab37-998f57abb6fa",
   "metadata": {
    "scrolled": true
   },
   "outputs": [
    {
     "data": {
      "text/plain": [
       "'hello'"
      ]
     },
     "execution_count": 400,
     "metadata": {},
     "output_type": "execute_result"
    }
   ],
   "source": [
    "d['k1'][3]['tricky'][3]['target'][3]"
   ]
  },
  {
   "cell_type": "code",
   "execution_count": 402,
   "id": "183e3e66-e4a0-47bf-99e9-64c886eedcf8",
   "metadata": {},
   "outputs": [],
   "source": [
    "# the main difference between tuple and list is mutability , i.e list are mutable and tuples are not."
   ]
  },
  {
   "cell_type": "code",
   "execution_count": 470,
   "id": "5f30c44a-bb82-48a0-a9a8-bf9e7dc6f62f",
   "metadata": {},
   "outputs": [],
   "source": [
    "def domainget(x):\n",
    "    output = x.split('@')[1] if '@' in x else None\n",
    "    print(output)"
   ]
  },
  {
   "cell_type": "code",
   "execution_count": 472,
   "id": "862f56b8-6b72-4f07-845c-d0c562a5bbe1",
   "metadata": {},
   "outputs": [
    {
     "name": "stdout",
     "output_type": "stream",
     "text": [
      "gmail.com\n"
     ]
    }
   ],
   "source": [
    "x= 'emgha@gmail.com'\n",
    "domainget(x)"
   ]
  },
  {
   "cell_type": "code",
   "execution_count": 520,
   "id": "39023143-8a3f-43b7-a07b-294c1ca611e8",
   "metadata": {},
   "outputs": [],
   "source": [
    "def find_dog(sentence):\n",
    "    j = sentence.split() \n",
    "    if 'dog' in j:\n",
    "        print('True')\n",
    "    else:\n",
    "        print('False')\n",
    "    "
   ]
  },
  {
   "cell_type": "code",
   "execution_count": 524,
   "id": "50924796-ef5d-4238-b663-6e97c1614406",
   "metadata": {},
   "outputs": [
    {
     "name": "stdout",
     "output_type": "stream",
     "text": [
      "False\n"
     ]
    }
   ],
   "source": [
    "find_dog('i am a fog')"
   ]
  },
  {
   "cell_type": "code",
   "execution_count": 565,
   "id": "7d935364-67f8-43b0-8a96-7887f5915222",
   "metadata": {},
   "outputs": [],
   "source": [
    "def repeat_dog(sentence):\n",
    "    j = sentence.split().count('dog')\n",
    "    print (j)\n",
    "        \n",
    "        "
   ]
  },
  {
   "cell_type": "code",
   "execution_count": 567,
   "id": "bceea24f-a4c4-4dcc-8b65-974017de2267",
   "metadata": {},
   "outputs": [
    {
     "name": "stdout",
     "output_type": "stream",
     "text": [
      "1\n"
     ]
    }
   ],
   "source": [
    "repeat_dog(\"i am a dog\")"
   ]
  },
  {
   "cell_type": "code",
   "execution_count": 569,
   "id": "e8ab3039-bb8f-48d9-ae8c-286188dec502",
   "metadata": {},
   "outputs": [
    {
     "name": "stdout",
     "output_type": "stream",
     "text": [
      "2\n"
     ]
    }
   ],
   "source": [
    "repeat_dog(\"i saw a dog and an another dog\")"
   ]
  },
  {
   "cell_type": "code",
   "execution_count": 571,
   "id": "a564ea26-e1d7-4a5e-b8ab-ceb53e009752",
   "metadata": {},
   "outputs": [],
   "source": [
    "seq = [ 'soup' , 'cat' , 'spoon' , 'dog']"
   ]
  },
  {
   "cell_type": "code",
   "execution_count": 575,
   "id": "ffc0c52f-3a06-461f-abd9-7c483bfc9a88",
   "metadata": {},
   "outputs": [
    {
     "data": {
      "text/plain": [
       "'cat'"
      ]
     },
     "execution_count": 575,
     "metadata": {},
     "output_type": "execute_result"
    }
   ],
   "source": [
    "seq[1]"
   ]
  },
  {
   "cell_type": "code",
   "execution_count": 593,
   "id": "a1c88a18-3f14-4ae0-bd36-f7084213f952",
   "metadata": {},
   "outputs": [
    {
     "data": {
      "text/plain": [
       "['soup', 'spoon']"
      ]
     },
     "execution_count": 593,
     "metadata": {},
     "output_type": "execute_result"
    }
   ],
   "source": [
    "list(filter(lambda word: word.lower().startswith('s'),seq))"
   ]
  },
  {
   "cell_type": "code",
   "execution_count": 595,
   "id": "b4c86dec-dd2e-433f-b1e2-1c20c79b39f1",
   "metadata": {},
   "outputs": [],
   "source": [
    "def caught_speeding(speed , is_birthday):\n",
    "    pass"
   ]
  },
  {
   "cell_type": "code",
   "execution_count": 656,
   "id": "63cfd6ca-e508-46c8-9633-779202316b7a",
   "metadata": {},
   "outputs": [],
   "source": [
    "def speed_check ( speed , is_birthday):\n",
    "    if speed < 61 and is_birthday is False:\n",
    "        print(\"no ticket\")\n",
    "    if speed > 61 and speed <= 80 and is_birthday is False:\n",
    "        print (\"small ticket\")\n",
    "    if speed > 80  and is_birthday is False :\n",
    "        print (\"big ticket\")"
   ]
  },
  {
   "cell_type": "code",
   "execution_count": 662,
   "id": "5b79b09f-f071-47f1-af20-ec6d46698a55",
   "metadata": {},
   "outputs": [],
   "source": [
    "speed_check(75,True)"
   ]
  },
  {
   "cell_type": "code",
   "execution_count": null,
   "id": "6d8d04a9-8338-4bbe-9cc5-e964c2f1ff76",
   "metadata": {},
   "outputs": [],
   "source": []
  },
  {
   "cell_type": "code",
   "execution_count": null,
   "id": "85e61806-3d56-43c2-bfb3-9b39b8be7344",
   "metadata": {},
   "outputs": [],
   "source": []
  }
 ],
 "metadata": {
  "kernelspec": {
   "display_name": "Python [conda env:base] *",
   "language": "python",
   "name": "conda-base-py"
  },
  "language_info": {
   "codemirror_mode": {
    "name": "ipython",
    "version": 3
   },
   "file_extension": ".py",
   "mimetype": "text/x-python",
   "name": "python",
   "nbconvert_exporter": "python",
   "pygments_lexer": "ipython3",
   "version": "3.12.7"
  }
 },
 "nbformat": 4,
 "nbformat_minor": 5
}
