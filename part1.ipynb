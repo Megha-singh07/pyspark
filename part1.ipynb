{
 "cells": [
  {
   "cell_type": "code",
   "execution_count": null,
   "id": "3198552e-2c4d-4bc3-9f0a-cc6fb200626e",
   "metadata": {},
   "outputs": [],
   "source": [
    "#initialized the spark\n",
    "#created the APPLICATION\n",
    "#checked spark is initialized or not\n",
    "# read the file\n",
    "# printed schema \n",
    "#checked the type\n",
    "#selected columns\n",
    "# printed datatypes\n",
    "#added columns\n",
    "#dropped columns \n",
    "#renamed columns"
   ]
  },
  {
   "cell_type": "code",
   "execution_count": 4,
   "id": "de714eda-3d81-4c3e-9335-44c0e7a23f8e",
   "metadata": {},
   "outputs": [
    {
     "name": "stdout",
     "output_type": "stream",
     "text": [
      "Requirement already satisfied: pyspark in c:\\users\\megha\\anaconda3\\lib\\site-packages (3.5.5)\n",
      "Requirement already satisfied: py4j==0.10.9.7 in c:\\users\\megha\\anaconda3\\lib\\site-packages (from pyspark) (0.10.9.7)\n",
      "Note: you may need to restart the kernel to use updated packages.\n"
     ]
    }
   ],
   "source": [
    "pip install pyspark"
   ]
  },
  {
   "cell_type": "code",
   "execution_count": 5,
   "id": "e9a70ba0-0d50-4606-8984-0ad25da7ee6d",
   "metadata": {},
   "outputs": [],
   "source": [
    "from pyspark.sql import SparkSession"
   ]
  },
  {
   "cell_type": "code",
   "execution_count": 9,
   "id": "24c098b3-30fe-4e9c-952c-3201de7349bc",
   "metadata": {},
   "outputs": [],
   "source": [
    "spark = SparkSession.builder.appName('pratisedf').getOrCreate()"
   ]
  },
  {
   "cell_type": "code",
   "execution_count": 11,
   "id": "4083c1fb-bb2e-4e84-ab4e-90d63c697bb1",
   "metadata": {},
   "outputs": [
    {
     "data": {
      "text/html": [
       "\n",
       "            <div>\n",
       "                <p><b>SparkSession - in-memory</b></p>\n",
       "                \n",
       "        <div>\n",
       "            <p><b>SparkContext</b></p>\n",
       "\n",
       "            <p><a href=\"http://LAPTOP-4CNSG55Q:4040\">Spark UI</a></p>\n",
       "\n",
       "            <dl>\n",
       "              <dt>Version</dt>\n",
       "                <dd><code>v3.5.5</code></dd>\n",
       "              <dt>Master</dt>\n",
       "                <dd><code>local[*]</code></dd>\n",
       "              <dt>AppName</dt>\n",
       "                <dd><code>pratisedf</code></dd>\n",
       "            </dl>\n",
       "        </div>\n",
       "        \n",
       "            </div>\n",
       "        "
      ],
      "text/plain": [
       "<pyspark.sql.session.SparkSession at 0x1dc7f988d40>"
      ]
     },
     "execution_count": 11,
     "metadata": {},
     "output_type": "execute_result"
    }
   ],
   "source": [
    "spark"
   ]
  },
  {
   "cell_type": "code",
   "execution_count": 23,
   "id": "e8ea0c9c-710a-4c89-bdb6-54991dc38c6a",
   "metadata": {},
   "outputs": [],
   "source": [
    "## read the dataset\n",
    "df_pyspark = spark.read.option('header','true').csv('test1.csv',inferSchema = True)"
   ]
  },
  {
   "cell_type": "code",
   "execution_count": 25,
   "id": "436286a3-b0eb-4a79-b4ab-97d62a31b067",
   "metadata": {},
   "outputs": [
    {
     "name": "stdout",
     "output_type": "stream",
     "text": [
      "root\n",
      " |-- Customer ID: integer (nullable = true)\n",
      " |-- Name: string (nullable = true)\n",
      " |-- Age: integer (nullable = true)\n",
      " |-- Email: string (nullable = true)\n",
      " |-- Location: string (nullable = true)\n",
      "\n"
     ]
    }
   ],
   "source": [
    "## check schema \n",
    "df_pyspark.printSchema()"
   ]
  },
  {
   "cell_type": "code",
   "execution_count": 35,
   "id": "72f6cf2f-0778-4aa2-9424-388b9f153595",
   "metadata": {},
   "outputs": [
    {
     "name": "stdout",
     "output_type": "stream",
     "text": [
      "+-----------+-------------+---+--------------------+-----------+\n",
      "|Customer ID|         Name|Age|               Email|   Location|\n",
      "+-----------+-------------+---+--------------------+-----------+\n",
      "|          1|     John Doe| 34| johndoe@example.com|   New York|\n",
      "|          2|   Jane Smith| 28|janesmith@example...|Los Angeles|\n",
      "|          3| Mike Johnson| 45|   mikej@example.com|    Chicago|\n",
      "|          4|    Sarah Lee| 32|sarahlee@example.com|      Miami|\n",
      "|          5|  David Brown| 40|davidbrown@exampl...|    Houston|\n",
      "|          6|  Emily Davis| 26|emilydavis@exampl...|     Boston|\n",
      "|          7| Chris Wilson| 38|chriswilson@examp...|  San Diego|\n",
      "|          8|Jessica Clark| 29|jessicac@example.com|     Dallas|\n",
      "|          9| Robert White| 50| robertw@example.com|    Atlanta|\n",
      "|         10|   Lisa Green| 33|lisagreen@example...|    Seattle|\n",
      "+-----------+-------------+---+--------------------+-----------+\n",
      "\n"
     ]
    }
   ],
   "source": [
    "df_pyspark = spark.read.csv('test1.csv',header = True , inferSchema = True)\n",
    "df_pyspark.show()"
   ]
  },
  {
   "cell_type": "code",
   "execution_count": 37,
   "id": "d2d69af4-ad45-4598-9781-9159afcaacce",
   "metadata": {},
   "outputs": [
    {
     "data": {
      "text/plain": [
       "pyspark.sql.dataframe.DataFrame"
      ]
     },
     "execution_count": 37,
     "metadata": {},
     "output_type": "execute_result"
    }
   ],
   "source": [
    "type(df_pyspark)"
   ]
  },
  {
   "cell_type": "code",
   "execution_count": 41,
   "id": "19f78f63-da24-45db-ade1-cc28b7538274",
   "metadata": {},
   "outputs": [
    {
     "data": {
      "text/plain": [
       "['Customer ID', 'Name', 'Age', 'Email', 'Location']"
      ]
     },
     "execution_count": 41,
     "metadata": {},
     "output_type": "execute_result"
    }
   ],
   "source": [
    "df_pyspark.columns"
   ]
  },
  {
   "cell_type": "code",
   "execution_count": 43,
   "id": "a38ed7d2-d07e-4d42-81c8-b417c8c2bfec",
   "metadata": {},
   "outputs": [
    {
     "data": {
      "text/plain": [
       "[Row(Customer ID=1, Name='John Doe', Age=34, Email='johndoe@example.com', Location='New York'),\n",
       " Row(Customer ID=2, Name='Jane Smith', Age=28, Email='janesmith@example.com', Location='Los Angeles'),\n",
       " Row(Customer ID=3, Name='Mike Johnson', Age=45, Email='mikej@example.com', Location='Chicago')]"
      ]
     },
     "execution_count": 43,
     "metadata": {},
     "output_type": "execute_result"
    }
   ],
   "source": [
    "df_pyspark.head(3)"
   ]
  },
  {
   "cell_type": "code",
   "execution_count": 45,
   "id": "449f0b81-0532-488c-903e-9ef09ce770b2",
   "metadata": {},
   "outputs": [
    {
     "name": "stdout",
     "output_type": "stream",
     "text": [
      "+-----------+-------------+---+--------------------+-----------+\n",
      "|Customer ID|         Name|Age|               Email|   Location|\n",
      "+-----------+-------------+---+--------------------+-----------+\n",
      "|          1|     John Doe| 34| johndoe@example.com|   New York|\n",
      "|          2|   Jane Smith| 28|janesmith@example...|Los Angeles|\n",
      "|          3| Mike Johnson| 45|   mikej@example.com|    Chicago|\n",
      "|          4|    Sarah Lee| 32|sarahlee@example.com|      Miami|\n",
      "|          5|  David Brown| 40|davidbrown@exampl...|    Houston|\n",
      "|          6|  Emily Davis| 26|emilydavis@exampl...|     Boston|\n",
      "|          7| Chris Wilson| 38|chriswilson@examp...|  San Diego|\n",
      "|          8|Jessica Clark| 29|jessicac@example.com|     Dallas|\n",
      "|          9| Robert White| 50| robertw@example.com|    Atlanta|\n",
      "|         10|   Lisa Green| 33|lisagreen@example...|    Seattle|\n",
      "+-----------+-------------+---+--------------------+-----------+\n",
      "\n"
     ]
    }
   ],
   "source": [
    "df_pyspark.show()"
   ]
  },
  {
   "cell_type": "code",
   "execution_count": 55,
   "id": "3508dd77-655b-40d1-99d5-2779724e0fd4",
   "metadata": {},
   "outputs": [
    {
     "name": "stdout",
     "output_type": "stream",
     "text": [
      "+-------------+---+\n",
      "|         Name|Age|\n",
      "+-------------+---+\n",
      "|     John Doe| 34|\n",
      "|   Jane Smith| 28|\n",
      "| Mike Johnson| 45|\n",
      "|    Sarah Lee| 32|\n",
      "|  David Brown| 40|\n",
      "|  Emily Davis| 26|\n",
      "| Chris Wilson| 38|\n",
      "|Jessica Clark| 29|\n",
      "| Robert White| 50|\n",
      "|   Lisa Green| 33|\n",
      "+-------------+---+\n",
      "\n"
     ]
    }
   ],
   "source": [
    "df_pyspark.select(['Name','Age']).show()"
   ]
  },
  {
   "cell_type": "code",
   "execution_count": 57,
   "id": "1afdc948-646d-42a2-8840-37b6fb1dde64",
   "metadata": {},
   "outputs": [
    {
     "data": {
      "text/plain": [
       "Column<'name'>"
      ]
     },
     "execution_count": 57,
     "metadata": {},
     "output_type": "execute_result"
    }
   ],
   "source": [
    "df_pyspark['name']"
   ]
  },
  {
   "cell_type": "code",
   "execution_count": 59,
   "id": "83372774-54eb-45e5-a90d-a0779e54c763",
   "metadata": {},
   "outputs": [
    {
     "data": {
      "text/plain": [
       "[('Customer ID', 'int'),\n",
       " ('Name', 'string'),\n",
       " ('Age', 'int'),\n",
       " ('Email', 'string'),\n",
       " ('Location', 'string')]"
      ]
     },
     "execution_count": 59,
     "metadata": {},
     "output_type": "execute_result"
    }
   ],
   "source": [
    "df_pyspark.dtypes"
   ]
  },
  {
   "cell_type": "code",
   "execution_count": 63,
   "id": "7117d2ea-57d0-4937-81e3-f6e356bf8d75",
   "metadata": {},
   "outputs": [
    {
     "name": "stdout",
     "output_type": "stream",
     "text": [
      "+-------+------------------+------------+-----------------+--------------------+--------+\n",
      "|summary|       Customer ID|        Name|              Age|               Email|Location|\n",
      "+-------+------------------+------------+-----------------+--------------------+--------+\n",
      "|  count|                10|          10|               10|                  10|      10|\n",
      "|   mean|               5.5|        NULL|             35.5|                NULL|    NULL|\n",
      "| stddev|3.0276503540974917|        NULL|7.720823214600312|                NULL|    NULL|\n",
      "|    min|                 1|Chris Wilson|               26|chriswilson@examp...| Atlanta|\n",
      "|    max|                10|   Sarah Lee|               50|sarahlee@example.com| Seattle|\n",
      "+-------+------------------+------------+-----------------+--------------------+--------+\n",
      "\n"
     ]
    }
   ],
   "source": [
    "df_pyspark.describe().show()"
   ]
  },
  {
   "cell_type": "code",
   "execution_count": 69,
   "id": "3cd4f895-3514-4362-af3e-fe46fb741f41",
   "metadata": {},
   "outputs": [],
   "source": [
    "## adding columns in dataframe \n",
    "df_pyspark = df_pyspark.withColumn('age after 2 year',df_pyspark['age']+2)\n"
   ]
  },
  {
   "cell_type": "code",
   "execution_count": 71,
   "id": "7bba0915-881e-4fa6-bf25-7b6a2921b19f",
   "metadata": {},
   "outputs": [
    {
     "name": "stdout",
     "output_type": "stream",
     "text": [
      "+-----------+-------------+---+--------------------+-----------+----------------+\n",
      "|Customer ID|         Name|Age|               Email|   Location|age after 2 year|\n",
      "+-----------+-------------+---+--------------------+-----------+----------------+\n",
      "|          1|     John Doe| 34| johndoe@example.com|   New York|              36|\n",
      "|          2|   Jane Smith| 28|janesmith@example...|Los Angeles|              30|\n",
      "|          3| Mike Johnson| 45|   mikej@example.com|    Chicago|              47|\n",
      "|          4|    Sarah Lee| 32|sarahlee@example.com|      Miami|              34|\n",
      "|          5|  David Brown| 40|davidbrown@exampl...|    Houston|              42|\n",
      "|          6|  Emily Davis| 26|emilydavis@exampl...|     Boston|              28|\n",
      "|          7| Chris Wilson| 38|chriswilson@examp...|  San Diego|              40|\n",
      "|          8|Jessica Clark| 29|jessicac@example.com|     Dallas|              31|\n",
      "|          9| Robert White| 50| robertw@example.com|    Atlanta|              52|\n",
      "|         10|   Lisa Green| 33|lisagreen@example...|    Seattle|              35|\n",
      "+-----------+-------------+---+--------------------+-----------+----------------+\n",
      "\n"
     ]
    }
   ],
   "source": [
    "df_pyspark.show()"
   ]
  },
  {
   "cell_type": "code",
   "execution_count": 77,
   "id": "9e5c1c78-b5a1-4036-a986-a6ecbe2d76e6",
   "metadata": {},
   "outputs": [],
   "source": [
    "#drop the column\n",
    "\n",
    "df_pyspark= df_pyspark.drop('age after 2 year')"
   ]
  },
  {
   "cell_type": "code",
   "execution_count": 79,
   "id": "6e1f8c75-6dfa-408b-891e-c604d07d55ec",
   "metadata": {},
   "outputs": [
    {
     "name": "stdout",
     "output_type": "stream",
     "text": [
      "+-----------+-------------+---+--------------------+-----------+\n",
      "|Customer ID|         Name|Age|               Email|   Location|\n",
      "+-----------+-------------+---+--------------------+-----------+\n",
      "|          1|     John Doe| 34| johndoe@example.com|   New York|\n",
      "|          2|   Jane Smith| 28|janesmith@example...|Los Angeles|\n",
      "|          3| Mike Johnson| 45|   mikej@example.com|    Chicago|\n",
      "|          4|    Sarah Lee| 32|sarahlee@example.com|      Miami|\n",
      "|          5|  David Brown| 40|davidbrown@exampl...|    Houston|\n",
      "|          6|  Emily Davis| 26|emilydavis@exampl...|     Boston|\n",
      "|          7| Chris Wilson| 38|chriswilson@examp...|  San Diego|\n",
      "|          8|Jessica Clark| 29|jessicac@example.com|     Dallas|\n",
      "|          9| Robert White| 50| robertw@example.com|    Atlanta|\n",
      "|         10|   Lisa Green| 33|lisagreen@example...|    Seattle|\n",
      "+-----------+-------------+---+--------------------+-----------+\n",
      "\n"
     ]
    }
   ],
   "source": [
    "df_pyspark.show()"
   ]
  },
  {
   "cell_type": "code",
   "execution_count": 81,
   "id": "eefd7c7d-4a9e-4f62-8358-184d469a36a7",
   "metadata": {},
   "outputs": [
    {
     "name": "stdout",
     "output_type": "stream",
     "text": [
      "+-----------+-------------+---+--------------------+-----------+\n",
      "|Customer ID|         name|Age|               Email|   Location|\n",
      "+-----------+-------------+---+--------------------+-----------+\n",
      "|          1|     John Doe| 34| johndoe@example.com|   New York|\n",
      "|          2|   Jane Smith| 28|janesmith@example...|Los Angeles|\n",
      "|          3| Mike Johnson| 45|   mikej@example.com|    Chicago|\n",
      "|          4|    Sarah Lee| 32|sarahlee@example.com|      Miami|\n",
      "|          5|  David Brown| 40|davidbrown@exampl...|    Houston|\n",
      "|          6|  Emily Davis| 26|emilydavis@exampl...|     Boston|\n",
      "|          7| Chris Wilson| 38|chriswilson@examp...|  San Diego|\n",
      "|          8|Jessica Clark| 29|jessicac@example.com|     Dallas|\n",
      "|          9| Robert White| 50| robertw@example.com|    Atlanta|\n",
      "|         10|   Lisa Green| 33|lisagreen@example...|    Seattle|\n",
      "+-----------+-------------+---+--------------------+-----------+\n",
      "\n"
     ]
    }
   ],
   "source": [
    "#Rename the column\n",
    "df_pyspark.withColumnRenamed('Name','name').show()"
   ]
  },
  {
   "cell_type": "code",
   "execution_count": null,
   "id": "33687e4c-300e-455f-b398-dfbf1b01c598",
   "metadata": {},
   "outputs": [],
   "source": []
  }
 ],
 "metadata": {
  "kernelspec": {
   "display_name": "Python [conda env:base] *",
   "language": "python",
   "name": "conda-base-py"
  },
  "language_info": {
   "codemirror_mode": {
    "name": "ipython",
    "version": 3
   },
   "file_extension": ".py",
   "mimetype": "text/x-python",
   "name": "python",
   "nbconvert_exporter": "python",
   "pygments_lexer": "ipython3",
   "version": "3.12.7"
  }
 },
 "nbformat": 4,
 "nbformat_minor": 5
}
