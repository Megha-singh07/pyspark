{
 "cells": [
  {
   "cell_type": "code",
   "execution_count": 51,
   "id": "1707c0d1-bc41-4bc1-9187-07907ecd7db8",
   "metadata": {},
   "outputs": [],
   "source": [
    "#spark filter operations\n"
   ]
  },
  {
   "cell_type": "code",
   "execution_count": 5,
   "id": "56808b78-7668-40a9-8a29-803fc3f615b0",
   "metadata": {},
   "outputs": [],
   "source": [
    "from pyspark.sql import SparkSession"
   ]
  },
  {
   "cell_type": "code",
   "execution_count": 7,
   "id": "5365c701-8071-47e9-b3ee-b2ac27a2b9a3",
   "metadata": {},
   "outputs": [],
   "source": [
    "spark = SparkSession.builder.appName('filterop').getOrCreate()"
   ]
  },
  {
   "cell_type": "code",
   "execution_count": 10,
   "id": "53f90ce1-8d10-4d34-9c7e-8e52181ff404",
   "metadata": {},
   "outputs": [
    {
     "data": {
      "text/html": [
       "\n",
       "            <div>\n",
       "                <p><b>SparkSession - in-memory</b></p>\n",
       "                \n",
       "        <div>\n",
       "            <p><b>SparkContext</b></p>\n",
       "\n",
       "            <p><a href=\"http://LAPTOP-4CNSG55Q:4041\">Spark UI</a></p>\n",
       "\n",
       "            <dl>\n",
       "              <dt>Version</dt>\n",
       "                <dd><code>v3.5.5</code></dd>\n",
       "              <dt>Master</dt>\n",
       "                <dd><code>local[*]</code></dd>\n",
       "              <dt>AppName</dt>\n",
       "                <dd><code>filterop</code></dd>\n",
       "            </dl>\n",
       "        </div>\n",
       "        \n",
       "            </div>\n",
       "        "
      ],
      "text/plain": [
       "<pyspark.sql.session.SparkSession at 0x13d4d383230>"
      ]
     },
     "execution_count": 10,
     "metadata": {},
     "output_type": "execute_result"
    }
   ],
   "source": [
    "spark"
   ]
  },
  {
   "cell_type": "code",
   "execution_count": 13,
   "id": "935e642a-6994-4828-9015-a9d93144acd4",
   "metadata": {},
   "outputs": [],
   "source": [
    "df_pyspark = spark.read.csv('test3.csv',header = True, inferSchema = True)"
   ]
  },
  {
   "cell_type": "code",
   "execution_count": 15,
   "id": "2e8c1b38-9c99-4239-a8a2-fa47388ce1ef",
   "metadata": {},
   "outputs": [
    {
     "name": "stdout",
     "output_type": "stream",
     "text": [
      "+------+---+----------+------+\n",
      "|  Name|Age|Experience|Salary|\n",
      "+------+---+----------+------+\n",
      "|Rajesh| 28|         5| 75000|\n",
      "| Priya| 25|         3| 60000|\n",
      "|  Anil| 30|         7| 90000|\n",
      "|Sunita| 27|         4| 70000|\n",
      "|Vikram| 35|        10|120000|\n",
      "|  Neha| 29|         6| 85000|\n",
      "| Arjun| 32|         8| 95000|\n",
      "| Pooja| 26|         3| 62000|\n",
      "|Ramesh| 40|        15|150000|\n",
      "+------+---+----------+------+\n",
      "\n"
     ]
    }
   ],
   "source": [
    "df_pyspark.show()"
   ]
  },
  {
   "cell_type": "markdown",
   "id": "ab596e81-f302-4cdb-b162-f739e092df46",
   "metadata": {},
   "source": [
    "Filter operations"
   ]
  },
  {
   "cell_type": "code",
   "execution_count": 23,
   "id": "ebf906f2-aeba-4812-b98f-3333b2cfcfbd",
   "metadata": {},
   "outputs": [
    {
     "name": "stdout",
     "output_type": "stream",
     "text": [
      "+------+---+----------+------+\n",
      "|  Name|Age|Experience|Salary|\n",
      "+------+---+----------+------+\n",
      "|Rajesh| 28|         5| 75000|\n",
      "| Priya| 25|         3| 60000|\n",
      "|  Anil| 30|         7| 90000|\n",
      "|Sunita| 27|         4| 70000|\n",
      "|  Neha| 29|         6| 85000|\n",
      "| Pooja| 26|         3| 62000|\n",
      "+------+---+----------+------+\n",
      "\n"
     ]
    }
   ],
   "source": [
    "#salary less than or equal to 20000\n",
    "\n",
    "df_pyspark.filter(\"salary<= 90000\").show()"
   ]
  },
  {
   "cell_type": "code",
   "execution_count": 27,
   "id": "e5c0c476-383d-4264-b423-85e4b32de15a",
   "metadata": {},
   "outputs": [
    {
     "name": "stdout",
     "output_type": "stream",
     "text": [
      "+------+---+\n",
      "|  Name|age|\n",
      "+------+---+\n",
      "|Rajesh| 28|\n",
      "| Priya| 25|\n",
      "|  Anil| 30|\n",
      "|Sunita| 27|\n",
      "|  Neha| 29|\n",
      "| Pooja| 26|\n",
      "+------+---+\n",
      "\n"
     ]
    }
   ],
   "source": [
    "df_pyspark.filter(\"salary<= 90000\").select(['Name','age']).show()"
   ]
  },
  {
   "cell_type": "code",
   "execution_count": 29,
   "id": "116680b6-bdab-4d6e-8220-dee7ab8a7027",
   "metadata": {},
   "outputs": [
    {
     "name": "stdout",
     "output_type": "stream",
     "text": [
      "+------+---+----------+------+\n",
      "|  Name|Age|Experience|Salary|\n",
      "+------+---+----------+------+\n",
      "|Rajesh| 28|         5| 75000|\n",
      "|  Anil| 30|         7| 90000|\n",
      "|Sunita| 27|         4| 70000|\n",
      "|  Neha| 29|         6| 85000|\n",
      "| Pooja| 26|         3| 62000|\n",
      "+------+---+----------+------+\n",
      "\n"
     ]
    }
   ],
   "source": [
    "df_pyspark.filter((df_pyspark['salary']<=90000)&\n",
    "                  (df_pyspark ['salary']>60000)).show()"
   ]
  },
  {
   "cell_type": "code",
   "execution_count": 31,
   "id": "fbab1901-fea1-4626-a0d3-e0ba70e0d2e6",
   "metadata": {},
   "outputs": [
    {
     "name": "stdout",
     "output_type": "stream",
     "text": [
      "+------+---+----------+------+\n",
      "|  Name|Age|Experience|Salary|\n",
      "+------+---+----------+------+\n",
      "|Vikram| 35|        10|120000|\n",
      "| Arjun| 32|         8| 95000|\n",
      "|Ramesh| 40|        15|150000|\n",
      "+------+---+----------+------+\n",
      "\n"
     ]
    }
   ],
   "source": [
    "df_pyspark.filter(~(df_pyspark['salary']<=90000)).show()"
   ]
  },
  {
   "cell_type": "code",
   "execution_count": null,
   "id": "4701ad21-ce58-43da-a9c7-b5f9d7c97d20",
   "metadata": {},
   "outputs": [],
   "source": []
  }
 ],
 "metadata": {
  "kernelspec": {
   "display_name": "Python [conda env:base] *",
   "language": "python",
   "name": "conda-base-py"
  },
  "language_info": {
   "codemirror_mode": {
    "name": "ipython",
    "version": 3
   },
   "file_extension": ".py",
   "mimetype": "text/x-python",
   "name": "python",
   "nbconvert_exporter": "python",
   "pygments_lexer": "ipython3",
   "version": "3.12.7"
  }
 },
 "nbformat": 4,
 "nbformat_minor": 5
}
